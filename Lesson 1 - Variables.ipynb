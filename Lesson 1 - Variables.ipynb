{
 "cells": [
  {
   "cell_type": "markdown",
   "metadata": {},
   "source": [
    "# Hello there!\n",
    "\n",
    "So I see you want to learn Python? Well, I might not be the best teacher, but hey, at least it's better than not learning it at all.\n",
    "In this lesson, we'll be going over some of the absolute fundamentals. If you're already somewhat familiar with programming, this might just be a refresher plus a little bit of about conventions within Python. \n",
    "\n",
    "First, I want to make sure you're familiar with this editor.\n",
    "What you're currently in is called a Jupyter notebook. It lets me write text and show code both on the same page. Quite cool!\n",
    "\n",
    "We have two types of cells: Markdown cells for text and Python cells for well... Python code.\n",
    "\n",
    "What you're currently reading is a Markdown cell, but let's not worry about that for now and get to what you're here for. You want to learn how to code! Below you is a Python cell. You can write your code in it and then run it on the spot! If you ran previous cells before it, you can use whatever things you ran in those cells in the current one (i.e. you performed a calculation you want to use in this cell). \n",
    "Let's try running the cell - either hover over it and press the Run button on the left.     \n",
    "<div style=\"text-align: center;\">\n",
    "\n",
    "![Image pointing to the play button on the left](https://cdn.discordapp.com/attachments/621291867538980864/1030354089055363082/unknown.png \"Image\")    \n",
    "</div> \n",
    "Or click within the cell and press `Ctrl + Alt + Enter` or `Shift + Enter`."
   ]
  },
  {
   "cell_type": "code",
   "execution_count": null,
   "metadata": {},
   "outputs": [],
   "source": [
    "print(\"This is a Python Cell!\")"
   ]
  },
  {
   "cell_type": "markdown",
   "metadata": {},
   "source": [
    "Great! Hopefully you got it to output an obvious statement!    \n",
    "To actually create a cell, simply hover your mouse under this message and press either the `+Code` button for a Python cell or the `+Markdown` button for a Markdown cell!       \n",
    "<div style=\"text-align: center;\">\n",
    "\n",
    "![Image showing the Code and Markdown buttons](https://cdn.discordapp.com/attachments/621291867538980864/1031275862164770938/unknown.png)  \n",
    "</div>  \n",
    "Give it a try! You don't have to write anything - just try inserting a cell below this current cell!"
   ]
  },
  {
   "cell_type": "markdown",
   "metadata": {},
   "source": [
    "### Now, onto the code!\n",
    "\n",
    "That's basically all you needed to know about how this editor works. Now let's get into writing some actual code! \n",
    "\n",
    "# Literal and Types\n",
    "\n",
    "We'll first introduce the concept of `literals`.     \n",
    "These are basically just standalone values that the machine will understand! I encourage you to explore a bit by running the following cells!  \n",
    "      \n",
    "These can be integers, called an `int`:"
   ]
  },
  {
   "cell_type": "code",
   "execution_count": null,
   "metadata": {},
   "outputs": [],
   "source": [
    "print(12345)\n",
    "print(type(12345))"
   ]
  },
  {
   "cell_type": "markdown",
   "metadata": {},
   "source": [
    "They can be decimal numbers called a `float`:"
   ]
  },
  {
   "cell_type": "code",
   "execution_count": null,
   "metadata": {},
   "outputs": [],
   "source": [
    "print(123.45)\n",
    "print(type(123.45))"
   ]
  },
  {
   "cell_type": "markdown",
   "metadata": {},
   "source": [
    "They can be a `true` or `false` value called a `bool` (short for boolean):"
   ]
  },
  {
   "cell_type": "code",
   "execution_count": null,
   "metadata": {},
   "outputs": [],
   "source": [
    "print(True)\n",
    "print(type(True))"
   ]
  },
  {
   "cell_type": "markdown",
   "metadata": {},
   "source": [
    "They can even be words called a `str` (short for string - as in a string of characters)!"
   ]
  },
  {
   "cell_type": "code",
   "execution_count": null,
   "metadata": {},
   "outputs": [],
   "source": [
    "print(\"Kinda cringe\")\n",
    "print(type(\"Kinda cringe\"))"
   ]
  },
  {
   "cell_type": "markdown",
   "metadata": {},
   "source": [
    "Notice that all of these `literals` have a `type`, which just specifies what it is - whether it's an integer with type `int`, decimal with type `float`, or a string with type `str`, they change the way how these fundamental ideas behave!"
   ]
  },
  {
   "cell_type": "markdown",
   "metadata": {},
   "source": [
    "### Exercise 1"
   ]
  },
  {
   "cell_type": "markdown",
   "metadata": {},
   "source": [
    "Below are some literal values (some of them are a bit tricky)!\n",
    " 1. Make a new Markdown cell below the cell.\n",
    " 2. Fill out the `type` of each literal!\n",
    " 3. Once you're done, feel free to run the code and check your work!"
   ]
  },
  {
   "cell_type": "code",
   "execution_count": null,
   "metadata": {},
   "outputs": [],
   "source": [
    "# 1\n",
    "print(type( 1 ))\n",
    "\n",
    "# 2\n",
    "print(type( 9999 ))\n",
    "\n",
    "# 3\n",
    "print(type( \"Hello World!\" ))\n",
    "\n",
    "# 4\n",
    "print(type( False ))\n",
    "\n",
    "# 5\n",
    "print(type( 1.5 ))\n",
    "\n",
    "# 6\n",
    "print(type( \"True\" ))\n",
    "\n",
    "# 7\n",
    "print(type( True ))\n",
    "\n",
    "# 8\n",
    "print(type( \"5\" ))\n",
    "\n",
    "# 9\n",
    "print(type( 0.0 ))\n",
    "\n",
    "# 10\n",
    "print(type( \"\" ))"
   ]
  },
  {
   "cell_type": "markdown",
   "metadata": {},
   "source": [
    "# Variables\n",
    "\n",
    "`Variables` are a fundamental part of most programming languages and let you ***substitute some value, such as a literal and later functions as another value***.     Much like algebra class, "
   ]
  },
  {
   "cell_type": "code",
   "execution_count": null,
   "metadata": {},
   "outputs": [],
   "source": []
  }
 ],
 "metadata": {
  "kernelspec": {
   "display_name": "Python 3.9.7 ('base')",
   "language": "python",
   "name": "python3"
  },
  "language_info": {
   "codemirror_mode": {
    "name": "ipython",
    "version": 3
   },
   "file_extension": ".py",
   "mimetype": "text/x-python",
   "name": "python",
   "nbconvert_exporter": "python",
   "pygments_lexer": "ipython3",
   "version": "3.9.7"
  },
  "orig_nbformat": 4,
  "vscode": {
   "interpreter": {
    "hash": "6bb1458a9339d46e1b0921f290eec508d7419f45141941fcf887dd2737dc33e4"
   }
  }
 },
 "nbformat": 4,
 "nbformat_minor": 2
}
