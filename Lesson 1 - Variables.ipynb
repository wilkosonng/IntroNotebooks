{
 "cells": [
  {
   "cell_type": "markdown",
   "metadata": {},
   "source": [
    "# Hello there!\n",
    "\n",
    "So I see you want to learn Python? Well, you could've gotten an actual teacher, but I guess I'm better than nothing.\n",
    "In this lesson, we'll be going over some of the absolute fundamentals. If you're already somewhat familiar with programming, this might just be a refresher plus a little bit of about conventions within Python. \n",
    "\n",
    "First, I want to make sure you're familiar with this editor.\n",
    "What you're currently in is called a Jupyter notebook. It lets me write text and show code both on the same page. Quite cool!\n",
    "\n",
    "We have two types of cells: Markdown cells for text and Python cells for well... Python code.\n",
    "\n",
    "What you're currently reading is a Markdown cell, but let's not worry about that for now and get to what you're here for. You want to learn how to code! Below you is a Python cell. You can write your code in it and then run it on the spot! If you ran previous cells before it, you can use whatever things you ran in those cells in the current one (i.e. you performed a calculation you want to use in this cell). \n",
    "Let's try running the cell - either hover over it and press the Run button on the left.     \n",
    "<div style=\"text-align: center;\">\n",
    "\n",
    "![Image pointing to the play button on the left](https://cdn.discordapp.com/attachments/621291867538980864/1030354089055363082/unknown.png \"Image\")    \n",
    "</div> \n",
    "\n",
    "Or click within the cell and press `Ctrl + Alt + Enter` or `Shift + Enter`."
   ]
  },
  {
   "cell_type": "code",
   "execution_count": null,
   "metadata": {},
   "outputs": [],
   "source": [
    "print(\"This is a Python Cell!\")"
   ]
  },
  {
   "cell_type": "markdown",
   "metadata": {},
   "source": [
    "Great! Hopefully you got it to output an obvious statement!    \n",
    "To actually create a cell, simply hover your mouse under this message and press either the `+Code` button for a Python cell or the `+Markdown` button for a Markdown cell!       \n",
    "<div style=\"text-align: center;\">\n",
    "\n",
    "![Image showing the Code and Markdown buttons](https://cdn.discordapp.com/attachments/621291867538980864/1031275862164770938/unknown.png)  \n",
    "</div>  \n",
    "Give it a try! You don't have to write anything - just try inserting a cell below this current cell!"
   ]
  },
  {
   "cell_type": "code",
   "execution_count": null,
   "metadata": {},
   "outputs": [],
   "source": []
  },
  {
   "cell_type": "markdown",
   "metadata": {},
   "source": []
  },
  {
   "cell_type": "markdown",
   "metadata": {},
   "source": [
    "### Now, onto the code!\n",
    "\n",
    "That's basically all you needed to know about how this editor works. Now let's get into writing some actual code! \n",
    "\n",
    "# Literal and Types\n",
    "\n",
    "**Note** - If you ever see a cell marked `Example`, don't be shy to run it! The output of the cell may be useful in helping you understand!\n",
    "\n",
    "We'll first introduce the concept of `literals`.     \n",
    "These are basically just standalone values that the machine will understand! I encourage you to explore a bit by running the following cells!  \n",
    "      \n",
    "These can be integers, called an `int`:"
   ]
  },
  {
   "cell_type": "code",
   "execution_count": null,
   "metadata": {},
   "outputs": [],
   "source": [
    "# Example\n",
    "\n",
    "print(12345)\n",
    "print(type(12345))"
   ]
  },
  {
   "cell_type": "markdown",
   "metadata": {},
   "source": [
    "They can be decimal numbers called a `float`:"
   ]
  },
  {
   "cell_type": "code",
   "execution_count": null,
   "metadata": {},
   "outputs": [],
   "source": [
    "# Example\n",
    "\n",
    "print(123.45)\n",
    "print(type(123.45))"
   ]
  },
  {
   "cell_type": "markdown",
   "metadata": {},
   "source": [
    "They can be a `True` or `False` value called a `bool` (short for boolean):"
   ]
  },
  {
   "cell_type": "code",
   "execution_count": null,
   "metadata": {},
   "outputs": [],
   "source": [
    "# Example\n",
    "\n",
    "print(True)\n",
    "print(type(True))"
   ]
  },
  {
   "cell_type": "markdown",
   "metadata": {},
   "source": [
    "They can even be words called a `str` (short for string - as in a string of characters), denoted using quotes: `'like this'`."
   ]
  },
  {
   "cell_type": "code",
   "execution_count": null,
   "metadata": {},
   "outputs": [],
   "source": [
    "# Example\n",
    "\n",
    "print(\"Kinda cringe\")\n",
    "print(type(\"Kinda cringe\"))"
   ]
  },
  {
   "cell_type": "markdown",
   "metadata": {},
   "source": [
    "Notice that all of these `literals` have a `type`, which just specifies what it is - whether it's an integer with type `int`, decimal with type `float`, or a string with type `str`, they change the way how these fundamental ideas behave!"
   ]
  },
  {
   "cell_type": "markdown",
   "metadata": {},
   "source": [
    "### Exercise 1 - Type Checking"
   ]
  },
  {
   "cell_type": "markdown",
   "metadata": {},
   "source": [
    "Below are some literal values (some of them are a bit tricky)!\n",
    " 1. Edit the Markdown (text) cell below the exercise. Double click or hover over it and press `Enter` to edit, `Ctrl + Alt + Enter` or click the check mark in the top right of the cell to save.\n",
    " 2. Fill out the `type` of each literal!\n",
    " 3. Once you're done, feel free to run the exercise code and check your work!"
   ]
  },
  {
   "cell_type": "code",
   "execution_count": null,
   "metadata": {},
   "outputs": [],
   "source": [
    "# 1\n",
    "print(type( 1 ))\n",
    "\n",
    "# 2\n",
    "print(type( 9999 ))\n",
    "\n",
    "# 3\n",
    "print(type( \"Hello World!\" ))\n",
    "\n",
    "# 4\n",
    "print(type( False ))\n",
    "\n",
    "# 5\n",
    "print(type( 1.5 ))\n",
    "\n",
    "# 6\n",
    "print(type( \"True\" ))\n",
    "\n",
    "# 7\n",
    "print(type( 000000000 ))\n",
    "\n",
    "# 8\n",
    "print(type( \"5\" ))\n",
    "\n",
    "# 9\n",
    "print(type( 0.0 ))\n",
    "\n",
    "# 10\n",
    "print(type( \"\" ))"
   ]
  },
  {
   "cell_type": "markdown",
   "metadata": {},
   "source": [
    "1. \n",
    "2. \n",
    "3. \n",
    "4. \n",
    "5. \n",
    "6. \n",
    "7. \n",
    "8. \n",
    "9. \n",
    "10. "
   ]
  },
  {
   "cell_type": "markdown",
   "metadata": {},
   "source": [
    "# Variables\n",
    "\n",
    "`Variables` are a fundamental part of most programming languages and let you ***substitute some value, such as a literal and later functions as another value***.    \n",
    "\n",
    "To declare a variable, let's say we name it *x*. We just set *x* equal to a value in statement like so *x* = 2 or *y* = \"Bob\".\n",
    "\n",
    "Unlike many programming langauges, variable types are `inferred` or `implicit` in Python - what this means is that you don't have to say that your variable is an `int` or a `str` - your computer will guess what type your variable is.\n",
    "Variables are also `dynamically typed`. This means that if we want to declare *x* as an `int` and later change our minds and change it to a `bool`, we won't get an error - *x* will just change to a `bool`.\n",
    "\n",
    "To visualize these two points, Python automatically knows that *x* is an `int` and *y* is a `str` in the above example. Further, let's say you later decide that *x* = True. In this case, *x* will naturally become a `bool`.\n",
    "\n"
   ]
  },
  {
   "cell_type": "code",
   "execution_count": null,
   "metadata": {},
   "outputs": [],
   "source": [
    "# Example\n",
    "\n",
    "x = 2\n",
    "y = \"Bob\"\n",
    "\n",
    "print(x)\n",
    "print(y)"
   ]
  },
  {
   "cell_type": "markdown",
   "metadata": {},
   "source": [
    "Note that code will be read by our computer from top to bottom. If we \"overwrite\" one of our variables later down the line, that's the variable that will actually count!"
   ]
  },
  {
   "cell_type": "code",
   "execution_count": null,
   "metadata": {},
   "outputs": [],
   "source": [
    "# Example\n",
    "\n",
    "x = 3\n",
    "y = 10\n",
    "x = 5\n",
    "\n",
    "# 13 or 15?\n",
    "print(x + y)"
   ]
  },
  {
   "cell_type": "markdown",
   "metadata": {},
   "source": [
    "<details>\n",
    "    <summary> Explanation </summary>\n",
    "The reason why it prints 15 is that while we first declare x as 3, we later overwrite it so it becomes 5. Therefore, we get 5 + 10 = 15.\n",
    "</details>"
   ]
  },
  {
   "cell_type": "markdown",
   "metadata": {},
   "source": [
    "### Basic Operators\n",
    "\n",
    "As introduced in the previous example, we can have Python perform operations on variables and literals for us! These will take two `arguments`, either variables or literals, and then perform an operation like adding or subtracting, and then output a result like the sum or difference. Here are a few basic ones for us:\n",
    "  * `+` : For `ints` and `floats`, this will add the values. It'll output an `int` if both inputs are ints and otherwise a `float`."
   ]
  },
  {
   "cell_type": "code",
   "execution_count": null,
   "metadata": {},
   "outputs": [],
   "source": [
    "# Example\n",
    "\n",
    "print(1 + 1)\n",
    "print(1.0 + 1)\n",
    "print(1 + 1.0)\n",
    "print(1.0 + 1.0)"
   ]
  },
  {
   "cell_type": "markdown",
   "metadata": {},
   "source": [
    "  * `+` : For two `str` inputs, it will concatenate the first `str` with the second one and output this as a `str`. This is essentially \"gluing\" the two strings together."
   ]
  },
  {
   "cell_type": "code",
   "execution_count": null,
   "metadata": {},
   "outputs": [],
   "source": [
    "# Example\n",
    "\n",
    "print(\"Ban\" + \"ana\")\n",
    "print(\"Three\" + \" \" + \"Musketeers\")"
   ]
  },
  {
   "cell_type": "markdown",
   "metadata": {},
   "source": [
    "* `-` : Basically the exact same as addition for `ints` and `floats`, but instead for subtraction. There isn't a `str` equivalent here."
   ]
  },
  {
   "cell_type": "code",
   "execution_count": null,
   "metadata": {},
   "outputs": [],
   "source": [
    "# Example\n",
    "\n",
    "# For x - y, outputs x minus y.\n",
    "print(2 - 1)\n",
    "print(2.0 - 1)\n",
    "print(2 - 1.0)\n",
    "print(2.0 - 1.0)"
   ]
  },
  {
   "cell_type": "markdown",
   "metadata": {},
   "source": [
    " * `*` and `/` : These are the multiplication and division operators respectively. Multiplication will output an `int` if both of its inputs are `ints`; otherwise, it'll return a `float` if at least one of its inputs are floats. Division will always return a `float`.\n",
    "\n",
    " **Note that *y* can't be 0 for `/`, or else we'd be dividing by 0**!!"
   ]
  },
  {
   "cell_type": "code",
   "execution_count": null,
   "metadata": {},
   "outputs": [],
   "source": [
    "# Example\n",
    "\n",
    "print(1 * 2)\n",
    "print(1.0 * 2)\n",
    "print(1 * 2.0)\n",
    "print(1.0 * 2.0)\n",
    "\n",
    "print() # Prints a blank line to separate the two.\n",
    "\n",
    "# For x / y, outputs x divided by y.\n",
    "print(2 / 1)\n",
    "print(2.0 / 1)\n",
    "print(2 / 1.0)\n",
    "print(2.0 / 1.0)"
   ]
  },
  {
   "cell_type": "markdown",
   "metadata": {},
   "source": [
    "* `*` : If your first argument is a `str`, this will do string multiplication, which is basically just when your str is repeated that many of times. For example: ``hello * 3`` = `hellohellohello`."
   ]
  },
  {
   "cell_type": "code",
   "execution_count": null,
   "metadata": {},
   "outputs": [],
   "source": [
    "# Example\n",
    "\n",
    "print('a' * 5)\n",
    "print('' * 2)\n",
    "print('abc' * 1)\n",
    "print('abc' * 0)"
   ]
  },
  {
   "cell_type": "markdown",
   "metadata": {},
   "source": [
    " * `**` : The exponentiation operator. If the inputs are `ints` AND the output can fit neatly as an `int`, that's what it'll return. Otherwise, it'll return a `float`."
   ]
  },
  {
   "cell_type": "code",
   "execution_count": null,
   "metadata": {},
   "outputs": [],
   "source": [
    "# Example\n",
    "\n",
    "# For x ** y, outputs x to the power of y.\n",
    "print(2 ** 2)\n",
    "print(2.0 ** 2)\n",
    "print(2 ** 2.0)\n",
    "print(2.0 ** 2.0)\n",
    "print(2 ** -2)"
   ]
  },
  {
   "cell_type": "markdown",
   "metadata": {},
   "source": [
    " * `%` : The modulo operator. This, when given two numbers, *x % y*, will give you the remainder of *x / y*. Same rules apply - if either *x* or *y* are `floats`, the output will be a `float`. Otherwise, it means that *x* and *y* are both `ints`, so the output will be an `int`.       \n",
    "    \n",
    "**Note that *y* can't be 0, or else we'd be dividing by 0**!!"
   ]
  },
  {
   "cell_type": "code",
   "execution_count": null,
   "metadata": {},
   "outputs": [],
   "source": [
    "# Example\n",
    "\n",
    "# For x % y, outputs the remainder of x / y\n",
    "print(10 % 4)\n",
    "print(9 % 2.5)\n",
    "print(8.0 % 3)\n",
    "print(5 % -2)"
   ]
  },
  {
   "cell_type": "markdown",
   "metadata": {},
   "source": [
    "For all of the above operators, let's say we want to perform an operation on a variable, and then use the result as the new value for a variable. For example, let's say we have an `int` x. We want to add 1 to `x`. One way we could go about doing this is saying:"
   ]
  },
  {
   "cell_type": "code",
   "execution_count": null,
   "metadata": {},
   "outputs": [],
   "source": [
    "x = 0\n",
    "x = x + 1"
   ]
  },
  {
   "cell_type": "markdown",
   "metadata": {},
   "source": [
    "However, there's actually a more efficient sytnax for this: we can write:\n",
    "`x += 1`. This is basically saying to add 1 to x, and then store it in the value of x. We can do the same for `-=`, `*=`, `/=`, `%=`, and `**=` as well as long as we're working with variables!"
   ]
  },
  {
   "cell_type": "markdown",
   "metadata": {},
   "source": [
    " * `==` and `!=` : These are the equals and not equals operators respectively and test whether two variables/literals are equal or not. If the two inputs are equal, then `==` outputs `True` and `!=` outputs `False`. And the opposite if they aren't equal. Note that these will always output a `bool`. If we compare an `int` and a `float`, the int will be converted to a float and compared. For equality purposes, `1` and `1.0` are equal to `True` and `0` and `0.0` are equal to `False`.       \n",
    "\n",
    "**Note: Do not confuse `==` with `=`. One you use to test for equality and the other one you use to assign a value to variables!**"
   ]
  },
  {
   "cell_type": "code",
   "execution_count": null,
   "metadata": {},
   "outputs": [],
   "source": [
    "x = 5\n",
    "y = \"Hello\"\n",
    "\n",
    "print(5 == 4)\n",
    "print(5 != 5)\n",
    "print(5 != 4)\n",
    "print(x == 5)\n",
    "print(5 == 5.0)\n",
    "\n",
    "print(y == \"Hello\")\n",
    "print(\"Hello\" == \"Hello\")\n",
    "print(\"Hello\" != y)"
   ]
  },
  {
   "cell_type": "markdown",
   "metadata": {},
   "source": [
    "One last note! Python will generally follow your traditional order of arithmetic operations! This includes parentheses, so if it sees those, it'll calculate those first!"
   ]
  },
  {
   "cell_type": "markdown",
   "metadata": {},
   "source": [
    "### Exercise 2 - In and Out\n",
    "\n",
    "Below are some expressions! What's the output of each of them?\n",
    " 1. Create a new Markdown cell below the code.\n",
    " 2. Fill out the cell with what the output of each number will be. If you want to, you can even add in the type of each output!\n",
    " 3. Check your work by running the code!"
   ]
  },
  {
   "cell_type": "code",
   "execution_count": null,
   "metadata": {},
   "outputs": [],
   "source": [
    "# 1\n",
    "\n",
    "x = 6\n",
    "y = 10\n",
    "z = 8\n",
    "\n",
    "a = x + y\n",
    "print(a)\n",
    "\n",
    "# 2\n",
    "\n",
    "b = a / z\n",
    "print(b)\n",
    "\n",
    "# 3\n",
    "\n",
    "y = 2\n",
    "\n",
    "print((x + y) ** b)\n",
    "\n",
    "# 4\n",
    "\n",
    "print(\"Hello \" + \"World!\")\n",
    "\n",
    "# 5\n",
    "\n",
    "print((11 % y) == 0)\n",
    "\n",
    "### MAKE A NEW MARKDOWN CELL BELOW THIS POINT ###"
   ]
  },
  {
   "cell_type": "markdown",
   "metadata": {},
   "source": [
    "### Type Casting\n",
    "\n",
    "There may be some instances where you want to change a variable from one type to another, as long as they're compatable. This is called `type casting`.     \n",
    "This can be useful if we want to perform operations on a `str` that is a number (i.e. \"500\").     \n",
    "\n",
    "To cast, simply surround what you want to cast with the type name like so: `int(\"500\")`.\n",
    " * `int()` : converts the input into an `int`\n",
    "    * If the input is a `float`, changes takes only the integer part (chops off the decimal part). This is called `truncation`.\n",
    "    * If the input is a `bool`, outputs 0 if it's `False` and 1 if it's `True`.\n",
    "    * If the input is an `str`, changes the word into its number form.\n",
    " * `float()` : converts the input into a `float`\n",
    "   *  If the input is an `int`, adds a `.0` decimal portion to it.\n",
    "   *  If the input is a `bool`, outputs 0.0 if it's `False` and 1.0 if it's `True`.\n",
    "   *  If the input is a `str`, changes the word into its number form.\n",
    "* `bool()` : converts the input into a `bool`\n",
    "   *  If the input is an `int` or `float`, outputs `False` if input equals 0 or 0.0. Otherwise, `True`.\n",
    "   *  If the input is a `str`, outputs `False` if the input equals `\"\"` (the empty string). Otherwise, `True`.\n",
    "* `str()` : converts the input into a `str`\n",
    "  * For any of the types, basically just turns the input into a word.\n",
    "\n",
    "I wouldn't worry about memorizing this. Many of these, you'll rarely use, but they're good to keep in mind!"
   ]
  },
  {
   "cell_type": "code",
   "execution_count": null,
   "metadata": {},
   "outputs": [],
   "source": [
    "# Example\n",
    "\n",
    "w = int(True)\n",
    "x = float(5)\n",
    "y = bool(\"False\")\n",
    "z = str(12.25)\n",
    "\n",
    "# These are called format strings. We'll get into them later.\n",
    "# Basically all that you need to know is that they'll print out\n",
    "# the value of each variable and the type to its right.\n",
    "\n",
    "print(f'{w} \\tType: {type(w)}')\n",
    "print(f'{x} \\tType: {type(x)}')\n",
    "print(f'{y} \\tType: {type(y)}')\n",
    "print(f'{z} \\tType: {type(z)}')"
   ]
  },
  {
   "cell_type": "markdown",
   "metadata": {},
   "source": [
    "# Comments and some Useful Functions\n",
    "\n",
    "You probably noticed some weird `#` lines in some of the examples. These are what are known as comments and aren't run as actual code.        \n",
    "Basically, if you type a `#` in the line, any text after it will just be ignored and not be executed. This can be particular useful in a few instances:\n",
    " * You want to explain your code, either to a colleague or peer.\n",
    " * You want to comment out a section of code to see how your program runs without it.\n",
    "\n",
    "If you want to comment multiple lines, you can highlight those lines and press `Ctrl + /`. To uncomment, do the exact same but on commented lines."
   ]
  },
  {
   "cell_type": "code",
   "execution_count": null,
   "metadata": {},
   "outputs": [],
   "source": [
    "# This is a comment!"
   ]
  },
  {
   "cell_type": "markdown",
   "metadata": {},
   "source": [
    "The last thing I want to go over are the `round()` and `print()` functions.        \n",
    "I'm sure you've seen the latter before. Essentially, it'll take the output, convert it into a string, and display it to the output line and then jump to the next line afterwards. There are a few notes here:\n",
    " * There are dedicated phrases called escape characters that have special properties. For example, `\\n` will skip to the next line and `\\t` will create a tab. Due to escape characters starting with a `\\` and strings defined by `'` marks, to type either of these, use `\\\\` and `\\'` respectively.\n",
    " * You can print expressions as well! To print multiple expressions, you'll have to use a format string, denoted by `f'text {var1} text {var2} text {var3}...'`.\n",
    " * Note that even without a print statement, Python will automatically output the last value of each cell.\n",
    "\n",
    "Next, the `round()` function will take in a `float` and output the nearest `int` value, much like traditional rounding!"
   ]
  },
  {
   "cell_type": "code",
   "execution_count": null,
   "metadata": {},
   "outputs": [],
   "source": [
    "# Format string example\n",
    "\n",
    "three = int('3')\n",
    "print(f'{10 - 9} and {9 % 7} and {three}')"
   ]
  },
  {
   "cell_type": "code",
   "execution_count": null,
   "metadata": {},
   "outputs": [],
   "source": [
    "# Round example\n",
    "\n",
    "print(round(1.5))\n",
    "print(round(-0.233))\n",
    "print(round(5.0))"
   ]
  },
  {
   "cell_type": "markdown",
   "metadata": {},
   "source": [
    "### Exercise 3 - 24 Game\n",
    "\n",
    "Your goal in this exercise is to edit each block of code so the output equals 24. I've provided an example below.\n",
    "\n",
    "1. Look at the variables for each block.\n",
    "2. Try and find a combination that leads to 24.\n",
    "3. Edit the expression at the bottom.\n",
    "4. Run the cell to check!"
   ]
  },
  {
   "cell_type": "code",
   "execution_count": null,
   "metadata": {},
   "outputs": [],
   "source": [
    "# Example\n",
    "\n",
    "a = 3\n",
    "b = 5\n",
    "c = 6\n",
    "d = 8\n",
    "\n",
    "# Explanation: 6 - 5 is 1; 1 * 3 is 3; 3 * 8 is 24.\n",
    "(c - b) * a * d"
   ]
  },
  {
   "cell_type": "code",
   "execution_count": null,
   "metadata": {},
   "outputs": [],
   "source": [
    "# 1\n",
    "\n",
    "a = 5\n",
    "b = 5\n",
    "c = 9\n",
    "d = 1\n",
    "\n",
    "# Uncomment the below expression and solve!\n",
    "# a + b + c + d"
   ]
  },
  {
   "cell_type": "code",
   "execution_count": null,
   "metadata": {},
   "outputs": [],
   "source": [
    "# 2\n",
    "\n",
    "a = 4\n",
    "b = 4\n",
    "c = 7\n",
    "d = 8\n",
    "\n",
    "# Uncomment the below expression and solve!\n",
    "# a + b + c + d"
   ]
  },
  {
   "cell_type": "code",
   "execution_count": null,
   "metadata": {},
   "outputs": [],
   "source": [
    "# 3\n",
    "\n",
    "a = 3\n",
    "b = 10\n",
    "c = 13\n",
    "d = 7\n",
    "\n",
    "# Uncomment the below expression and solve!\n",
    "# a + b + c + d"
   ]
  },
  {
   "cell_type": "markdown",
   "metadata": {},
   "source": [
    "That's a wrap! Hope you enjoyed the lesson! Until next time, space cowboy!"
   ]
  }
 ],
 "metadata": {
  "kernelspec": {
   "display_name": "Python 3.9.7 ('base')",
   "language": "python",
   "name": "python3"
  },
  "language_info": {
   "codemirror_mode": {
    "name": "ipython",
    "version": 3
   },
   "file_extension": ".py",
   "mimetype": "text/x-python",
   "name": "python",
   "nbconvert_exporter": "python",
   "pygments_lexer": "ipython3",
   "version": "3.9.7"
  },
  "orig_nbformat": 4,
  "vscode": {
   "interpreter": {
    "hash": "6bb1458a9339d46e1b0921f290eec508d7419f45141941fcf887dd2737dc33e4"
   }
  }
 },
 "nbformat": 4,
 "nbformat_minor": 2
}
