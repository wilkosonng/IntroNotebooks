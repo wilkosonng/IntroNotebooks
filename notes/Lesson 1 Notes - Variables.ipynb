{
 "cells": [
  {
   "cell_type": "markdown",
   "id": "01aa69af",
   "metadata": {},
   "source": [
    "### Your First Notebook\n",
    "\n",
    "Welcome to your first notes notebook! I, at the very least, find it much more effective to learn via reinforcement, which these notes force you to do when filling out the blanks. If you think something else is important for you to know, feel free to add cells or expand upon existing cells! As such, I recommend having the notes page open alongside the respective lesson when learning!    \n",
    "\n",
    "To split screen in VS Code, you can either have them open on separate monitors (if you're doing this, you can skip the tutorial below -- or not! It still might be helpful in the future), or if you're a single monitor user like me, follow the instructions below.\n",
    "\n",
    "#### 1. Open both files\n",
    "You should see both files in your tabs as shown:   \n",
    "<center>\n",
    "\n",
    "![Image showing both tabs open in VS Code](../figures/lesson-1-notes/tabs-open.png \"tabs-open.png\")\n",
    "</center>\n",
    "\n",
    "#### 2. Drag the tab you want on the right side to the right edge of the screen\n",
    "<center>\n",
    "\n",
    "![Image showing tab in the process of being dragged to the right side of the screen](../figures/lesson-1-notes/drag-to-side.png \"drag-to-side.png\")\n",
    "</center>\n",
    "\n",
    "#### 3. Voilà! You're all set!\n",
    "<center>\n",
    "\n",
    "![Image showing both tabs being displayed side-by-side simultaneously side-by-side](../figures/lesson-1-notes/side-by-side.png \"side-by-side.png\")\n",
    "</center>"
   ]
  },
  {
   "cell_type": "markdown",
   "id": "e335e121",
   "metadata": {},
   "source": [
    "With that all set up, let's move on to the actual notes."
   ]
  },
  {
   "cell_type": "markdown",
   "id": "599898cc",
   "metadata": {},
   "source": [
    "## Introduction\n",
    "\n",
    " - Lessons will be taught out of `_____` Notebooks.\n",
    "   - These consist of two types of cells: `_____` cells for writing text and `_____` for executing code.\n",
    "   - To execute code in a cell, `_____`.\n",
    "   - The output of executing code shown will be the last expression evaluated."
   ]
  },
  {
   "cell_type": "markdown",
   "id": "fb53fdf0",
   "metadata": {},
   "source": [
    "## Literals and Types\n",
    "\n",
    "- Literals are `_____`.\n",
    "  - Python literals are `_____`, meaning they exhibit different behavior based on inherent properties.\n",
    "- The four *primitive* types of literals in Python are: `_____`, `_____`, `_____`, and `_____`."
   ]
  },
  {
   "cell_type": "code",
   "execution_count": null,
   "id": "801e6513",
   "metadata": {},
   "outputs": [],
   "source": [
    "# Example of an int\n",
    "\n",
    "EXAMPLE HERE\n",
    "\n",
    "# Example of a float\n",
    "\n",
    "EXAMPLE HERE\n",
    "\n",
    "# Example of a bool\n",
    "\n",
    "EXAMPLE HERE\n",
    "\n",
    "# Example of a str\n",
    "\n",
    "EXAMPLE HERE"
   ]
  },
  {
   "cell_type": "markdown",
   "id": "435cf4c9",
   "metadata": {},
   "source": [
    "## Variables\n",
    "\n",
    "- Variables in Python allow you to `_____`.\n",
    "- To declare a variable, use an `_____`.\n",
    "  - This is considered a `_____` because `_____`. On the other hand, an `_____` will evaluate into a literal."
   ]
  },
  {
   "cell_type": "code",
   "execution_count": null,
   "id": "44a91d55",
   "metadata": {},
   "outputs": [],
   "source": [
    "# Example of a variable declaration\n",
    "\n",
    "EXAMPLE HERE"
   ]
  },
  {
   "cell_type": "markdown",
   "id": "d89b76fa",
   "metadata": {},
   "source": [
    "- Variable types in Python are `_____`, meaning they `_____`.\n",
    "- Variables are also `_____`, meaning the typing can update during the lifespan of the variable.\n",
    "  - Code is executed from `_____`, allowing for overwriting of variables.\n",
    "      \n",
    "- Genearlly, variable names should be `_____` for clarity and follow the style of `_____`.\n",
    "- Variables that are meant to be constants should have their names `_____`.\n",
    "- The strict rules for naming variables are as follows:\n",
    "  1. `_____`\n",
    "  2. `_____`\n",
    "  3. `_____`\n",
    "- Variable names are cAse-SEnsITiVE!"
   ]
  },
  {
   "cell_type": "markdown",
   "id": "70252178",
   "metadata": {},
   "source": [
    "## Operators\n",
    "\n",
    "- Operators perform designated operations on variables and literals called `_____`.\n",
    "- Operators are part of expressions because they will overall evaluate into a literal.\n",
    "- Each operation requires specific types!         \n",
    "         \n",
    "<center>   \n",
    "   \t \n",
    "| Operator       \t\t         | Types Operated On | Example           | Evaluation        |\n",
    "|--------------------------------|-------------------|-------------------|-------------------|\n",
    "| `+` \t(addition) \t\t \t\t | `_____`           | `_____`           | `_____`           |\n",
    "| `+` \t(concatenation)\t \t\t | `_____`           | `_____`           | `_____`           |\n",
    "| `-` \t(subtraction)\t \t\t | `_____`           | `_____`           | `_____`           |\n",
    "| `*` \t(multiplication) \t\t | `_____`           | `_____`           | `_____`           |\n",
    "| `*` \t(replication)\t \t\t | `_____`           | `_____`           | `_____`           |\n",
    "| `/` \t(division)\t\t \t\t | `_____`           | `_____`           | `_____`           |\n",
    "| `//`\t(int divison)\t \t\t | `_____`           | `_____`           | `_____`           |\n",
    "| `%`\t(modulo)\t\t \t\t | `_____`           | `_____`           | `_____`           |\n",
    "| `**`\t(exponentiation) \t\t | `_____`           | `_____`           | `_____`           |\n",
    "| `==`\t(equality)\t\t \t\t | `_____`           | `_____`           | `_____`           |\n",
    "| `!=`\t(non-equality)\t \t\t | `_____`           | `_____`           | `_____`           |\n",
    "| `<`\t(less than)\t\t \t\t | `_____`           | `_____`           | `_____`           |\n",
    "| `<=`\t(less than or equal)\t | `_____`           | `_____`           | `_____`           |\n",
    "| `>`\t(greater than)\t\t \t | `_____`           | `_____`           | `_____`           |\n",
    "| `>=`\t(greater than or equal)\t | `_____`           | `_____`           | `_____`           |\n",
    "\n",
    "</center>\n",
    "\n",
    "- When comparing strings, the relative operators compare the `_____` (dictionary) order of the strings.     \n",
    "- Mismatching types for operators will result in a `_____`.\n",
    "- For the `_____` operators, the second operand cannot be 0, resulting in a `_____`.\n",
    "\n",
    "- `_____` can be used to set operation precedence in terms of order of evaluation. In general, the order for these basic operators is:\n",
    "\t1. `_____`\n",
    "\t2. `_____`\n",
    "\t3. `_____`\n",
    "\t4. `_____`\n",
    "\t5. `_____`"
   ]
  },
  {
   "cell_type": "markdown",
   "id": "81ad08f4",
   "metadata": {},
   "source": [
    "## Type Casting\n",
    "\n",
    " - Type casting is a way of `_____`.\n",
    " - The way you type cast is by `_____`.\n",
    " - When casting from a `float` to an `int`, the decimal portion is `_____`."
   ]
  },
  {
   "cell_type": "code",
   "execution_count": null,
   "id": "879e7898",
   "metadata": {},
   "outputs": [],
   "source": [
    "# Example of casting\n",
    "\n",
    "EXAMPLE HERE"
   ]
  },
  {
   "cell_type": "markdown",
   "id": "6b0ca69b",
   "metadata": {},
   "source": [
    "## Comments\n",
    "\n",
    "- Comments are not `_____`.\n",
    "- To start a comment, use `_____` in front of the line.\n",
    "- Comments are useful for:\n",
    "  - `_____`\n",
    "  - `_____`\n",
    "- You can use the shortcut `_____` to comment and uncomment lines."
   ]
  },
  {
   "cell_type": "markdown",
   "id": "3837d51d",
   "metadata": {},
   "source": [
    "## Useful Functions\n",
    "\n",
    " - The `_____` function is used for writing lines to the output and jumping to the next line.\n",
    "   - You can use `_____` for a new line or `_____` to create a tab. For quotes inside a string or backslashes, use `_____`.\n",
    "   - To print multiple expressions, use `_____`, denoted by the syntax `_____`."
   ]
  },
  {
   "cell_type": "code",
   "execution_count": null,
   "id": "c5ef5753",
   "metadata": {},
   "outputs": [],
   "source": [
    "# print() example\n",
    "\n",
    "EXAMPLE HERE"
   ]
  },
  {
   "cell_type": "markdown",
   "id": "1fcae385",
   "metadata": {},
   "source": [
    " - The `_____` function is used for converting number-like types to the nearest `int` value."
   ]
  },
  {
   "cell_type": "code",
   "execution_count": null,
   "id": "d1ed48e7",
   "metadata": {},
   "outputs": [],
   "source": [
    "# round() example\n",
    "\n",
    "EXAMPLE HERE"
   ]
  },
  {
   "cell_type": "markdown",
   "id": "5c036a0d",
   "metadata": {},
   "source": [
    "- The `_____` function is used for prompting users and receiving the text the user sends in response.\n",
    "  - The value that is returned is always of type `_____`. It might need to be cast to different types depending on your use case."
   ]
  },
  {
   "cell_type": "code",
   "execution_count": null,
   "id": "97443325",
   "metadata": {},
   "outputs": [],
   "source": [
    "# input() example\n",
    "\n",
    "EXAMPLE HERE"
   ]
  }
 ],
 "metadata": {
  "kernelspec": {
   "display_name": "Python 3",
   "language": "python",
   "name": "python3"
  },
  "language_info": {
   "codemirror_mode": {
    "name": "ipython",
    "version": 3
   },
   "file_extension": ".py",
   "mimetype": "text/x-python",
   "name": "python",
   "nbconvert_exporter": "python",
   "pygments_lexer": "ipython3",
   "version": "3.10.2"
  }
 },
 "nbformat": 4,
 "nbformat_minor": 5
}
