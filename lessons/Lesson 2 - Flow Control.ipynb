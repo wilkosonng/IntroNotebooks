{
 "cells": [
  {
   "cell_type": "markdown",
   "id": "24d1550d",
   "metadata": {},
   "source": [
    "# Lesson 2\n",
    "\n",
    "Welcome back! We'll be starting off with a quick warm-up to refresh on some of the topics in the last lesson. I hope you enjoy!\n",
    "\n",
    "### Warm Up - 24 Game v2\n",
    "\n",
    "Your goal in this exercise is to edit each block of code so the output equals 24. I've provided an example below.\n",
    "\n",
    "1. Look at the variables for each block.\n",
    "2. Try and find a combination that leads to 24 that uses all of the variables only once.\n",
    "3. Type your expression in the print statement!\n",
    "4. Run the cell to check!"
   ]
  },
  {
   "cell_type": "code",
   "execution_count": null,
   "id": "2261b415",
   "metadata": {},
   "outputs": [],
   "source": [
    "# 1\n",
    "\n",
    "a = 1\n",
    "b = 3\n",
    "c = 5\n",
    "d = 7\n",
    "\n",
    "# Uncomment the below expression and solve!\n",
    "# a + b + c + d"
   ]
  },
  {
   "cell_type": "code",
   "execution_count": null,
   "id": "656264a9",
   "metadata": {},
   "outputs": [],
   "source": [
    "# 2\n",
    "\n",
    "a = (30 % 7) + 6 # You're free to write comments next to the numbers to help you keep track!\n",
    "b = int('3')\n",
    "c = 8\n",
    "d = int(1 + 1 == 2)\n",
    "\n",
    "# Uncomment the below expression and solve!\n",
    "# a + b + c + d"
   ]
  },
  {
   "cell_type": "code",
   "execution_count": null,
   "id": "a594ea23",
   "metadata": {},
   "outputs": [],
   "source": [
    "# 3\n",
    "\n",
    "a = int(1.5) + round(1.5)\n",
    "b = (2 ** 2) + (1 ** 1)\n",
    "c = 7 % 8\n",
    "d = (2 ** 1) + (1 ** 2)\n",
    "\n",
    "# Uncomment the below expression and solve!\n",
    "# a + b + c + d"
   ]
  },
  {
   "cell_type": "markdown",
   "id": "3fd681ed",
   "metadata": {},
   "source": [
    "# Boolean Operators\n",
    "\n",
    "Recall in [Lesson 1](./Lesson%201%20-%20Variables.ipynb) that we discussed some basic operators such as addition, multiplication, and even concatenation or modulo. If you're any familiar with the origin of the Boolean type in [Boolean Algebra](https://en.wikipedia.org/wiki/Boolean_algebra), you may already be familiar with these operators: `AND` (conjunction), `OR` (disjunction), and `NOT` (negation).     \n",
    "\n",
    "While these operators can be used on most data types, we'll strictly focus on how they interact with the raw `bool` type. As a reminder, `bool`s are simply the set of the 2 values `True` and `False`. To explore these operators, we can tabulate a `Truth Table`. In essence, these tables list all combinations of inputs for the operator and show the operational output. For binary boolean operators, this means `2 * 2 = 4` rows. If it's a bit hard to visualize at the moment, it'll make a lot more sense once you actually see one! Without further ado, let's take a look!\n",
    "\n",
    "## The `and` operator\n",
    "\n",
    "Thankfully, the boolean operators are pretty intuitively-named. The `and` operator takes in two operands, and outputs `True` if and only if *both operands* are `True`; otherwise, it will output `False`. You can think of this operator requiring both the first ***and*** the second operand to evaluate to `True` in order to also output `True`.    \n",
    "\n",
    "The syntax for these operators might look strange in that they aren't symbols or special characters; rather, they are English words. Still, you should treat them as if they were a special symbol (called a `keyword`)."
   ]
  },
  {
   "cell_type": "code",
   "execution_count": null,
   "id": "2aeec2b0",
   "metadata": {},
   "outputs": [],
   "source": [
    "# Example\n",
    "\n",
    "print(True and True)\n",
    "print(True and False)\n",
    "print(False and True)\n",
    "print(False and False)\n",
    "\n",
    "print()  # For a new line\n",
    "\n",
    "print(True and True and True)\n",
    "print(True and False and True)\n",
    "print(False and False and Trued)"
   ]
  },
  {
   "cell_type": "markdown",
   "id": "53dd5b11",
   "metadata": {},
   "source": [
    "Now that we've seen an example, how about we tabulate all of this data into a *truth table*? The first column will list the first operand, the second column the second, and the third for the output of the operation:\n",
    "\n",
    "<center>\n",
    "<b>AND Truth Table</b>    \n",
    "\n",
    "| First Operand | Second Operand | Output  |\n",
    "|---------------|----------------|---------|\n",
    "|    `True`     |     `True`\t | `True`  |\n",
    "|    `True`     |     `False`\t | `False` |\n",
    "|    `False`    |     `True`\t | `False` |\n",
    "|    `False`    |     `False`\t | `False` |\n",
    "\n",
    "</center>     \n",
    "\n",
    "And there we have it! Let's read the second row in the truth table as an example. Here, we're saying the `True and False` results in `False`. You can memorize these if you like, but I personally prefer to just remember the more intuitive definition since it's rather easy to work out the table on the fly if you need it that way.\n",
    "\n",
    "## The `or` operator\n",
    "\n",
    "Given the `and` operator definition, you may be able to make an educated guess on what the `or` operator does. Feel free to take a stab at it!\n",
    "\n",
    "If you were able to come up with a definition that mirrored the `and` operator's definition but replaced the world ***and*** with the word ***or***, you'd be spot on! Indeed, the `or` operator outputs `True` if and only if either the first operand ***or*** the second operand evaluate to `True`."
   ]
  },
  {
   "cell_type": "code",
   "execution_count": null,
   "id": "4ae6aa48",
   "metadata": {},
   "outputs": [],
   "source": [
    "# Example\n",
    "\n",
    "print(True or True)\n",
    "print(True or False)\n",
    "print(False or True)\n",
    "print(False or False)\n",
    "\n",
    "print() # For a new line\n",
    "\n",
    "print((True and False) or (True and True))\n",
    "print((True or False) and (False or True))\n",
    "print(False or False or False or True)"
   ]
  },
  {
   "cell_type": "markdown",
   "id": "8521937f",
   "metadata": {},
   "source": [
    "And here's the truth table:\n",
    "\n",
    "<center>\n",
    "<b>OR Truth Table</b>    \n",
    "\n",
    "| First Operand | Second Operand | Output  |\n",
    "|---------------|----------------|---------|\n",
    "|    `True`     |     `True`\t | `True`  |\n",
    "|    `True`     |     `False`\t | `True`  |\n",
    "|    `False`    |     `True`\t | `True`  |\n",
    "|    `False`    |     `False`\t | `False` |\n",
    "\n",
    "</center>    \n",
    "\n",
    "## The `not` operator\n",
    "\n",
    "The `not` operator is a bit different from `and` and `or` insofar it only takes in a single operand. This makes it a `unary` operator rather than a `binary` one. This also means the definition is a bit less convoluted: the `not` operator will output the opposite of whatever its operand evaluates to. `True` becomes `False` and `False` becomes `True`.     "
   ]
  },
  {
   "cell_type": "code",
   "execution_count": null,
   "id": "48d6d952",
   "metadata": {},
   "outputs": [],
   "source": [
    "# Example\n",
    "\n",
    "print(not True)\n",
    "print(not False)\n",
    "\n",
    "print()  # For a new line\n",
    "\n",
    "print(not not True)\n",
    "print(not (True and not False))"
   ]
  },
  {
   "cell_type": "markdown",
   "id": "c07fd1fd",
   "metadata": {},
   "source": [
    "As `not` is a unary operator, the truth table is also noticeably less sophisticated:\n",
    "\n",
    "<center>\n",
    "<b>NOT Truth Table</b>    \n",
    "\n",
    "| First Operand |  Output   |\n",
    "|---------------|-----------|\n",
    "|    `True`     |  `False`  |\n",
    "|    `False`    |  `True`   |\n",
    "\n",
    "</center>    \n",
    "\n",
    "### Other Operators\n",
    "\n",
    "If you're already familiar with boolean algebra, you may notice that we're missing `xor` and `xnor`. Of course, these can be rewritten using `and`, `or`, and `not`, but note that `xor` is equivalent to the `!=` (not equals) operator and `xnor` is equivalent to `==` equality. While this is more obtuse, it's a good thing to keep in mind if you ever need them.    \n",
    "\n",
    "### Combining Operators\n",
    "\n",
    "You may have noticed that in some examples, we've been combining operators together to form more complex boolean expressions. If you imagine replacing the boolean literals of `True` and `False` for dynamic variables that represent different boolean values i.e. (`is_raining`, `is_hot`, `is_weekday`, etc.), then we can form expressions that model similarly complex situations. Of course, parsing through these is also more complex, so it may help to walk through one right now!\n",
    "\n",
    "Let's take the following example:"
   ]
  },
  {
   "cell_type": "code",
   "execution_count": null,
   "id": "5ef87eb8",
   "metadata": {},
   "outputs": [],
   "source": [
    "# Example\n",
    "\n",
    "is_raining = True\n",
    "is_late = True\n",
    "has_umbrella = False\n",
    "\n",
    "go_outside = not is_raining or is_late or (is_raining and has_umbrella)"
   ]
  },
  {
   "cell_type": "markdown",
   "id": "9a8c5e34",
   "metadata": {},
   "source": [
    "Taking this example in step by step, let's look at the overall expression structure. It helps to try to peel the expression back from the outermost layer towards each inner nested layer, similar to onions or ogres. In this particular example, we can notice the overall structure of:    \n",
    "\n",
    "`X or Y or Z`\n",
    "\n",
    "where:\n",
    " - `X = not is_raining`\n",
    " - `Y = is_late`\n",
    " - `Z = is_raining and has_humbrella`    \n",
    "\n",
    "Thankfully, this is most of the complexity of this expression alleviated. As each subexression is surrounded by `or` operators, this means that we need any one of them to be true for us to `go_outside`: either    \n",
    " 1. It isn't raining.\n",
    " 2. We're late and we need to go even if it's raining and we don't have an umbrella.\n",
    " 3. It's raining, but we have an umbrella.\n",
    "\n",
    "We can represent each caluse in a truth table here:\n",
    "<center>\n",
    "<b>Go Outside Truth Table</b>    \n",
    "\n",
    "| `is_raining`  |   `is_late`    | `has_umbrella`  |  `go_outside`  |\n",
    "|---------------|----------------|-----------------|----------------|\n",
    "|    `True`     |     `True`\t |     `True`      |     `True`     | \n",
    "|    `True`     |     `False`\t |     `True`      |     `True`     | \n",
    "|    `True`     |     `True`\t |     `False`     |     `True`     | \n",
    "|    `True`     |     `False`\t |     `False`     |     `False`    |\n",
    "|    `False`    |     `True`\t |     `True`      |     `True`     | \n",
    "|    `False`    |     `False`\t |     `True`      |     `True`     | \n",
    "|    `False`    |     `True`\t |     `False`     |     `True`     | \n",
    "|    `False`    |     `False`\t |     `False`     |     `True`     |\n",
    "\n",
    "</center>   \n",
    "\n",
    "You may notice that truth tables get exponentially more tedious to create with more variables (by a factor of 2 per variable). If you would like additional reading into a more advanced topic, you can actually simplify many boolean expressions using [Karnaugh Maps](https://en.wikipedia.org/wiki/Karnaugh_map). If you find yourself working with a lot of complex boolean expressions, this is something you might want to look into.     \n",
    "\n",
    "One last note in terms of order of operations: like other operators such as multiplication and division, boolean operators follow an order of operations. **In the case of logical operators, they are evaluated *after* the relational operators** (which were run after all mathematical operators), meaning you may run into logical errors if you don't properly use parentheses!\n",
    "\n",
    "### Truthiness\n",
    "\n",
    "When we were introduced to type casting in [Lesson 1](./Lesson%201%20-%20Variables.ipynb), there were some peculiarities when we converted from other types into the `bool` type. In particular, `int` and `float` values were equivalent to `False` at `0` and `0.0` respectively and `True` otherwise. For `str`s, only the `\"\"` (empty string) resolved to `False`. It turns out that we can also use these not within boolean expressions, but *as* boolean expressions in and of themselves. Let's demonstrate:"
   ]
  },
  {
   "cell_type": "code",
   "execution_count": null,
   "id": "d188b4ea",
   "metadata": {},
   "outputs": [],
   "source": [
    "# Example\n",
    "\n",
    "print(bool(0))\t# False\n",
    "print(bool(1))\t# True\n",
    "\n",
    "print()\t\t\t# New line\n",
    "\n",
    "print(0 or 1 or 2)\n",
    "print(1 or 0)\n",
    "print(0 and 1)\n",
    "print(1 and 2)\n",
    "print(not 0)\n",
    "print(not 1)\n",
    "print(not \"\")"
   ]
  },
  {
   "cell_type": "markdown",
   "id": "e57d2535",
   "metadata": {},
   "source": [
    "While a bit unintuitive, this is a fairly common pattern in many programming languages. In fact, some languages such as `C` don't have a dedicated type for boolean values. Instead, they rely on the truthiness of a value. One thing you may have noticed is that when combined with the newly-acquired boolean operators, the expressions resolve to the original values rather than booleans. This is intentional! Going from left to right, the `or` operator outputs either the first truthy value if it resolves to `True` or the last falsy value if it resolves to `False`. The `and` operator, on the other hand, either outputs the last truthy value if it resolves to `True` or the first falsy value that causes it to resolve to `False`. You can think of the shorthand being the output of the operator is the first value that *causes* the resolution to either `True` or `False`. Although it will take some time to get used to, once you manage to grasp it, it can lead to some interesting quirks and shortcuts once we delve into flow control. With that aside, let's get some practice in!"
   ]
  },
  {
   "cell_type": "markdown",
   "id": "7cd8d70d",
   "metadata": {},
   "source": [
    "### Exercise 1 - `True or False`\n",
    "\n",
    "You'll find some boolean expressions below.\n",
    "\n",
    "1. Write a comment predicting the evaluation of each boolean expression next to or under each expression.\n",
    "   - Alternatively, you may choose to edit the formatted strings to print out your answer next to the interpolated expression if you desire (ex. `print(f\"0. {expression} YOUR ANSWER HERE\")`).\n",
    "2. Run the code to check!"
   ]
  },
  {
   "cell_type": "code",
   "execution_count": null,
   "id": "25c55307",
   "metadata": {},
   "outputs": [],
   "source": [
    "# 1\n",
    "\n",
    "print(f\"1. {True}\")\n",
    "\n",
    "# 2\n",
    "\n",
    "print(f\"2. {not True}\")\n",
    "\n",
    "# 3\n",
    "\n",
    "print(f\"3. {True or False}\")\n",
    "\n",
    "# 4\n",
    "\n",
    "print(f\"4. {True and False == False or True}\")\n",
    "\n",
    "# 5\n",
    "\n",
    "print(f\"5. {(True and False) == (False or True)}\")\n",
    "\n",
    "# 6\n",
    "\n",
    "print(f\"6. {bool('The question writer is a stunningly good-looking fellow.')}\")\n",
    "\n",
    "# 7\n",
    "\n",
    "print(f\"7. {bool(42) == bool('The meaning of life')}\")\n",
    "\n",
    "# 8\n",
    "\n",
    "to_be = True\n",
    "\n",
    "print(f\"8. {to_be or not to_be}\")\n",
    "\n",
    "# 9\n",
    "\n",
    "to_be = False\n",
    "\n",
    "print(f\"9. {to_be or not to_be}\")\n",
    "\n",
    "# 10\n",
    "\n",
    "x = -1 < 0\n",
    "y = 0 < 0\n",
    "z = 1 < 0\n",
    "\n",
    "print(f\"10. {not (x or y or z)}\")\n",
    "\n",
    "# 11\n",
    "\n",
    "l = 4 == 2\n",
    "i = 4 != 2\n",
    "f = 4 >  2\n",
    "e = 4 >= 2\n",
    "\n",
    "print(f\"11. {l or (i and (f and e))}\")\n",
    "\n",
    "# 12\n",
    "\n",
    "print(f\"12. {True and not (False or True)}\")\n",
    "\n",
    "# 13\n",
    "\n",
    "x = 3\n",
    "x = x == 4\n",
    "\n",
    "y = 3\n",
    "y = y != 4\n",
    "\n",
    "print(f\"13. {(x and y) or (x and not y)}\")\n",
    "\n",
    "# 14\n",
    "\n",
    "w = True and True\n",
    "x = True and False\n",
    "y = False and True\n",
    "z = False and False\n",
    "\n",
    "print(f\"14. {w and (not x and not (not y or z))}\")\n",
    "\n",
    "# 15\n",
    "\n",
    "w = True or True\n",
    "x = True or False\n",
    "y = False or True\n",
    "z = False or False\n",
    "\n",
    "print(f\"15. {(True and w) and (True and x) and (True and y) and (True and z)}\")\n",
    "\n",
    "# 16\n",
    "\n",
    "w = not (True or True)\n",
    "x = not (True or False)\n",
    "y = not (False or True)\n",
    "z = not (False or False)\n",
    "\n",
    "print(f\"16. {(False or w) or (False or x) or (False or y) or (False or z)}\")"
   ]
  },
  {
   "cell_type": "markdown",
   "id": "6bca0aa4",
   "metadata": {},
   "source": [
    "# Flow Control\n",
    "\n",
    "So far, all we've essentially done is make a to-do list for our programs consisting of what variables to declare, what expressions to evaluate, and maybe some printing, input, and rounding in between. While this is powerful on its own, the real meat and bones of programming is allowing our programs to ***make decisions*** based on its environment without us needing to explicitly program it in. Flow control is one of the ways we accomplish this.      \n",
    "     \n",
    "In essence, ***flow control*** are the syntactical statements that ***allow our program to choose which and how many times certain lines of code execute based on environmental conditions***. What do we mean by environmental conditions? This usually refers to boolean expressions that we will use to dictate our code. Let's demonstrate this with the `if` statement.\n",
    "\n",
    "## The `if` statement\n",
    "\n",
    "Suppose you want to have a program notify you to bring an umbrella out when it's raining and that we had magical boolean variable named `is_raining` that changed to `True` if the weather outside your house was raining and is otherwise `False`. In reality, we'd probably query an outside service (like a weather application) to change this variable for us. That's beside the fact, however. Now that we have this magical variable, how do we use `is_raining` to notify us?     \n",
    "\n",
    "With our current tools, the best we could probably manage is to print the value of `is_raining`:"
   ]
  },
  {
   "cell_type": "code",
   "execution_count": null,
   "id": "5bc2cdcc",
   "metadata": {},
   "outputs": [],
   "source": [
    "# Example\n",
    "\n",
    "is_raining = True\n",
    "\n",
    "print(f\"It is currently raining: {is_raining}\")"
   ]
  },
  {
   "cell_type": "markdown",
   "id": "2c258ddf",
   "metadata": {},
   "source": [
    "While this is arguably enough, it's so unsatisfying to leave it at that! Let's introduce some code that will better our rainy lives!      \n",
    "\n",
    "The `if` statement is a **way to *conditionally* execute a block of code based on the evaluation of a boolean expression**. In essence, if the boolean condition evaluates to `True`, then the subsequent code block (a group of liens of code) will run. Likewise, if the condition evaluates to `False`, then the entirety of the code block is skipped. Syntactically, they will look something like the following:\n",
    "\n",
    "<center>\n",
    "\n",
    "![\"A picture of a Python if statement with highlighted portions denoting the different parts of the syntax](../figures/lesson-2/if-statement.png)\n",
    "\n",
    "</center>\n",
    "\n",
    "Let's break this down:  \n",
    " 1. 🔴 Begin your `if` statement with the `if` keyword and a space.\n",
    " 2. 🔵 Immediately after the `if` comes the conditional expression that dictates whether the next block of code will run. This can be literals, variables, or a relational or boolean opeartion - as long as it can be converted into a `True` or `False` boolean value.\n",
    " 3. 🟢 Follow the condition up with a colon. This is the conclusion of the first line of the statement.\n",
    " 4. 🟡 Lastly are indented lines of code. These are the what is executed if your `condition` expression evaluates to True. The indentation is **mandatory** and is what helps Python recognize a when a block of code starts and ends.\n",
    " 5. To end your code block, simply end the indentation and the subsequent code will execute normally (seperate from the `if` statement).\n",
    "\n",
    "Generally, it's advised to either use `four space` characters or a `single tab` character for indentation. It's preference to which you prefer, though four spaces is generally more common in the wild due to it being preferred by the official style guide; however, **they cannot be interchanged** in the same indentation blocks (you'll get a nasty error!), so make sure to stay consistent whichever one you choose!    \n",
    "\n",
    "For an umbrella notification, we might have something that looks like this:"
   ]
  },
  {
   "cell_type": "code",
   "execution_count": null,
   "id": "f7f47890",
   "metadata": {},
   "outputs": [],
   "source": [
    "# Example\n",
    "\n",
    "is_raining = True\n",
    "\n",
    "if is_raining:\n",
    "\tprint(\"It seems to be raining. Remember to bring your umbrella!\")\n",
    "\n",
    "print(\"Have a wonderful rest of your day!\")"
   ]
  },
  {
   "cell_type": "markdown",
   "id": "52392a24",
   "metadata": {},
   "source": [
    "Feel free to play around with the value of `is_raining` in the above example. You'll notice that the last line, which isn't part of the `if` statement, will print no matter the value, which is to be expected as it's the way our code has run before. The difference here is that we now have the ability to conditionally run lines of code, and in this case, will serve as a useful umbrella reminder!     \n",
    "\n",
    "While our code block this time was only one line, we can let them be as long as we need them to. Let's expand our code block in the following example:"
   ]
  },
  {
   "cell_type": "code",
   "execution_count": null,
   "id": "84f066ca",
   "metadata": {},
   "outputs": [],
   "source": [
    "# Example\n",
    "\n",
    "is_raining = True\n",
    "wardrobe = \"t-shirt and shorts\"\n",
    "drive_speed = 50\n",
    "\n",
    "if is_raining:\n",
    "    wardrobe = \"poncho and boots\"\n",
    "    drive_speed -= 10\n",
    "    print(\"It seems to be raining. Remember to bring your umbrella!\")\n",
    "\n",
    "print(f\"Today I'll be wearing a {wardrobe}.\")\n",
    "print(f\"I'll be driving at {drive_speed} mph!\")"
   ]
  },
  {
   "cell_type": "markdown",
   "id": "408fdda7",
   "metadata": {},
   "source": [
    "It may be useful to map out what's going on in the code in a decision-based flow chart like so:\n",
    "\n",
    "<center>\n",
    "\n",
    "![\"A picture of a of a flowchart that follows the code execution order of the above example of an if statement](../figures/lesson-2/if-flow-chart.png)\n",
    "\n",
    "</center>\n",
    "\n",
    "- We start our program and execute the code top to bottom. In this case, we first assign a few values to the variables `is_raining`, `wardrobe`, and `drive_speed`.    \n",
    "\n",
    "- The `if` statement, denoted in the red box, executes conditional code denoted in the right branch.\n",
    "  - If `is_raining` evaluates to `True`: We change our `wardrobe`, lower our `drive_speed` and print a reminder to bring an umbrella.\n",
    "  - Otherwise, we skip over the code block and continue program execution.\n",
    "\n",
    "- Once the conditional code is executed (if it is executed at all), the program returns to its regular flow where we print out two additional statements based on our `wardrobe` and `drive_speed` variables.\n",
    "\n",
    "Great! Now our programs are looking a little bit more dynamic and reactive! Let's further expand upon this by adding additional branches to our `if` statements.\n",
    "\n",
    "## The `else` statement\n",
    "\n",
    "Suppose we wanted to print a different reminder if and only if it's not raining. We could currently do so with a second `if` statement like so:"
   ]
  },
  {
   "cell_type": "code",
   "execution_count": null,
   "id": "66b8d6f5",
   "metadata": {},
   "outputs": [],
   "source": [
    "# Example\n",
    "\n",
    "is_raining = False\n",
    "\n",
    "if is_raining:\n",
    "    print(\"It seems to be raining. Remember to bring your umbrella!\")\n",
    "\n",
    "if not is_raining:\n",
    "    print(\"The weather seems fair today! Enjoy the day outside!\")"
   ]
  },
  {
   "cell_type": "markdown",
   "id": "c4694575",
   "metadata": {},
   "source": [
    "However, remember how our truth tables get much more complex with the more variables we use. While something like this is practical for perhaps one or two variables, listing out each combination of `True` and `False` becomes exponentially more tedious the more variables we use as we've seen with truth tables. We can, of course, aleviate this by introducing the `else` statement. These go at the *end* of existing `if` statements and execute the following code block if the initial condition did not resolve to `True`. Note that if the initial `if` statement condition is fulfilled, its code block is executed and the `else` statement is skipped. In the context of the `if` statement, we are asking \"Is this condition true?\" `if` so, execute this code; `else`, execute that code. Else statements will look something like this:\n",
    "\n",
    "<center>\n",
    "\n",
    "![\"A picture of a Python if-else statement with highlighted portions denoting the different parts of the syntax](../figures/lesson-2/if-else-statement.png)\n",
    "\n",
    "</center>\n",
    "\n",
    "Dissecting the syntax, we have:\n",
    "\n",
    "1. An initial `if` statement\n",
    "2. 🔴 The `else` keyword. Notice that this is on the same indentation level as the original `if` statement.\n",
    "3. 🔵 A colon immeidately after the `else` keyword. Notice the lack of a condition. We don't need one here - the `else` statement automatically runs if no other condition in its statement is `True`.\n",
    "4. 🟡 The code block to run if the branch is triggered\n",
    "5. To end your code block, simply end the indentation and the subsequent code will execute normally (seperate from the `if-else` statement).    \n",
    "\n",
    "And translating the above example:"
   ]
  },
  {
   "cell_type": "code",
   "execution_count": null,
   "id": "82e6aa88",
   "metadata": {},
   "outputs": [],
   "source": [
    "# Example\n",
    "\n",
    "is_raining = False\n",
    "\n",
    "if is_raining:\n",
    "    print(\"It seems to be raining. Remember to bring your umbrella!\")\n",
    "else:\n",
    "    print(\"The weather seems fair today! Enjoy the day outside!\")"
   ]
  },
  {
   "cell_type": "markdown",
   "id": "82382928",
   "metadata": {},
   "source": [
    "And of course, we can map it out:\n",
    "\n",
    "<center>\n",
    "\n",
    "![\"A picture of a of a flowchart that follows the code execution order of the above example of an if-else statement](../figures/lesson-2/if-else-flow-chart.png)\n",
    "\n",
    "</center>"
   ]
  },
  {
   "cell_type": "markdown",
   "id": "f159e1cb",
   "metadata": {},
   "source": [
    "Here, we start our program and execute from top to bottom:\n",
    " - An unconditional variable assignment\n",
    " - The initial `if` statement. If the condition is true, we run the code block and end.\n",
    " - Otherwise, we run the `else` code block and end.\n",
    "\n",
    "## `elif` statements\n",
    "\n",
    "Perhaps we don't want such binary conditions such as `is_raining` and the `else` equivalent (`not is_raining`). We can add additional depth with the use of `elif` (short for `else if`) statements. Similar to `else` statements, they are evaluated once the `if` condition resolves to false. Unlike the `else` statement, however, `elif` statements use a condition to determine whether or not to run its code block and we can have as many statements as necessary, quite fitting given its name is a mix of both `if` and `else` statements. If we have multiple `elif` statements, they are simply checked in top-to-bottom order and only the first positive condition `elif` statement code block is actually executed. \n",
    "\n",
    "<center>\n",
    "\n",
    "![\"A picture of a Python if-elif statement with highlighted portions denoting the different parts of the syntax](../figures/lesson-2/if-elif-statement.png)\n",
    "\n",
    "</center>\n",
    "\n",
    "The syntax for `elif` statements are very much akin to an `if` statement:\n",
    "\n",
    " 1. Write your initial `if` statement and its code block.\n",
    " 2. 🔴 Right under the code block in the original `if` statement indentation, start with the `elif` keyword followed by a space..\n",
    " 3. 🔵 Afterwards comes your condition expression\n",
    " 4. 🟢 Follow the condition immediately with a comma and a new line.\n",
    " 5. 🟡 As always, we want an indented code block to run if the condition resolves to `True`.\n",
    " 6. If necessary, you can have additional `elif` statements or an `else` statement below with the same indentation as the `if` or `elif` statements.\n",
    " 7. Afterwards, return to the original indentation layer."
   ]
  },
  {
   "cell_type": "code",
   "execution_count": null,
   "id": "0b905b25",
   "metadata": {},
   "outputs": [],
   "source": [
    "# Example\n",
    "\n",
    "temp = 25\n",
    "\n",
    "if temp <= 10:\n",
    "\tprint(\"Brrrr.... it's chilly outside!\")\n",
    "elif temp <= 22:\n",
    "\tprint(\"It's pretty cool outside\")\n",
    "elif temp <= 30:\n",
    "\tprint(\"It's warm outside!\")\n",
    "else:\n",
    "\tprint(\"It's hot outside!\")"
   ]
  },
  {
   "cell_type": "markdown",
   "id": "8d529a3d",
   "metadata": {},
   "source": [
    "At this point, you should know the drill:\n",
    "\n",
    "<center>\n",
    "\n",
    "![\"A picture of a of a flowchart that follows the code execution order of the above example of an if-elif statement](../figures/lesson-2/if-elif-flow-chart.png)\n",
    "\n",
    "</center>\n",
    "\n",
    "As these maps/flowcharts begin to increase in complexity, it may be helpful to physically point your finger and follow the chart from start to end trying to think of starting conditions that get you to every single output. If you need help, you can execute the code to find some values!\n",
    "\n",
    "### The order matters!\n",
    "\n",
    "Because we check conditions from top to bottom, the ***order of the conditions*** can make a meaningful difference. For example, if you plan to use an `else` statement, it must come ***after*** all `elif` statements as it catches everything that doesn't fulfill the the `if` or `elif` conditions. If you had additional `elif` statements below the `else` statement, they would never execute since everything would be caught by the `else` statement! In fact, Python won't even recognize the `elif` statements as valid!"
   ]
  },
  {
   "cell_type": "code",
   "execution_count": null,
   "id": "705fabe9",
   "metadata": {},
   "outputs": [],
   "source": [
    "# Example (Invalid)\n",
    "\n",
    "temp = 25\n",
    "\n",
    "if temp <= 10:\n",
    "    print(\"Brrrr.... it's chilly outside!\")\n",
    "else:\n",
    "    print(\"It's hot outside!\")\n",
    "elif temp <= 22:\t\t\t\t\t\t\t# elif after the else statement!!!\n",
    "\tprint(\"It's pretty cool outside\")"
   ]
  },
  {
   "cell_type": "markdown",
   "id": "409df5ee",
   "metadata": {},
   "source": [
    "If we think about what this program is actually trying to say, we're essentially doing the following:\n",
    "\n",
    "<center>\n",
    "\n",
    "![\"A picture of a of a flowchart that follows the code execution order of the above example of an invalid if-elif statement](../figures/lesson-2/invalid-if-elif-flow-chart.png)\n",
    "\n",
    "</center>"
   ]
  },
  {
   "cell_type": "markdown",
   "id": "c1d1bf70",
   "metadata": {},
   "source": [
    "Notice how we can't even reach the `elif` statement from the start via our flow chart! Of course, Python will catch this and mark it as invalid syntax; however, we may get into more subtle errors. Consider the following example:"
   ]
  },
  {
   "cell_type": "code",
   "execution_count": null,
   "id": "ddb6bcbf",
   "metadata": {},
   "outputs": [],
   "source": [
    "# Example\n",
    "\n",
    "temp = 0\n",
    "\n",
    "if temp <= 30:\n",
    "    print(\"It's warm outside!\")\n",
    "elif temp <= 22:\n",
    "    print(\"It's pretty cool outside\")\n",
    "elif temp <= 10:\n",
    "    print(\"Brrrr.... it's chilly outside!\")\n",
    "else:\n",
    "    print(\"It's hot outside!\")"
   ]
  },
  {
   "cell_type": "markdown",
   "id": "f224e6c7",
   "metadata": {},
   "source": [
    "This results in the following flow chart:\n",
    "\n",
    "<center>\n",
    "\n",
    "![A picture of a of a flowchart that follows the code execution order of the above example of an misordered if-elif statement](../figures/lesson-2/misorder-if-elif-flow-chart.png)\n",
    "\n",
    "</center>\n",
    "\n",
    "At first glance, everything looks normal and this is completely valid Python code, but if you actually run the code, you'll notice that we can never get the program to say it's cool or chilly outside! This is because those branches are also *unreachable*! In this instance, however, it's not a syntactical error that Python is able to catch for us; instead, it's an error in our logic! Give yourself a second a try to come up with *why* the `elif` statements never execute their code blocks (trying to follow the flow chart may be useful!).    \n",
    "\n",
    "If you said that the above `if` statement already executes for all `temp` values that the `elif` statements would execute for, you'd be exactly right! In more colloquial terms, consider each condition to be a filter where some values can and can't pass through. Each subsequent \"filter\" is directly underneath the other and can catch things the others miss. If we filter out all of the values at the top, then there's no valid values to pass through to the lower filters! For the given example, it'd look something like this:\n",
    "\n",
    "<center>\n",
    "\n",
    "![A picture comparing two descending numberlines ](../figures/lesson-2/filter-analogy.png)\n",
    "\n",
    "</center>\n",
    "\n",
    "Notice how in our valid example (left), we're slowly eliminating or \"filtering out\" possibilities for the `temp` value. In our invalid example (right), on the other hand, we immediately filter out the temperatures we're trying to differentiate in our later conditions! This means our `elif` statement conditions always evaluate to false and get skipped over. As a simple rule of thumb to avoid doing this in your own programs, whenever you're creating conditions that apply to overlapping ranges or subsets, make sure to put the most specific conditions first. You can think of this as putting the filters that catch the most porous filters first in a sense.\n",
    "\n",
    "### Nesting `if` statements\n",
    "\n",
    "You may have naturally asked the question: what happens if we put an `if` statement inside of another `if` statement, and how would it work? I think it's best to just try it out and see what happens! Before you run the code, try making an educated guess!"
   ]
  },
  {
   "cell_type": "code",
   "execution_count": null,
   "id": "b2d4eb80",
   "metadata": {},
   "outputs": [],
   "source": [
    "# Exercise\n",
    "\n",
    "x = True\t# Try to change the values and see what happens!\n",
    "y = False\n",
    "\n",
    "if x:\n",
    "\tprint(\"You've reached the outer if code block!\")\n",
    "\t# Notice the level of indentation!\n",
    "\tif y:\n",
    "\t\tprint(\"You've reached the inner if code block!\")\n",
    "\telse:\n",
    "\t\tprint(\"You've reached the inner else code block!\")\n",
    "else:\n",
    "\tprint(\"You've reached the outer else code block!\")\n",
    "\n",
    "print(\"You've reached the end of the program!\")"
   ]
  },
  {
   "cell_type": "markdown",
   "id": "f7bab000",
   "metadata": {},
   "source": [
    "You may have guessed (or experimented) and noticed that nesting `if` statements with conditions `x`, `y` is equivalent to using a single `if` statement with condition `x and y`. So why do we use nesting `if` statements if we can just use one? There may be a couple of reasons:\n",
    "\n",
    "- Condition order - You may want to execute other code before checking the second condition. In this case, it may be above the code block before the nested `if` statement.\n",
    "- Additional branching - You can see that with `else` statements, we're able to better differentiate combinations of values, whereas with a single `if` statement, we'd have to add in `elif` statements for the same level of branching.\n",
    "- Code readibility - A string of long boolean expressions with `and` in between can get rather messy rather quickly - sometimes, you'll just use nested `if` statements to clean things up.\n",
    "\n",
    "Visualizing this in the form of a flow chart:\n",
    "\n",
    "<center>\n",
    "\n",
    "![A picture of a of a flowchart that follows the code execution order of the above example of a nested if-else statement](../figures/lesson-2/nested-if-flow-chart.png)\n",
    "\n",
    "</center>\n",
    "\n",
    "It's a little more complicated, but hopefully not too daunting and followable! You should now know most of what there is to know about `if` statements and can now write relatively dynamic code! If you do want some additional reading on adjacent topics, I recommend looking into the [Ternary Operator](https://www.geeksforgeeks.org/ternary-operator-in-python/), [Short Circuiting](https://www.geeksforgeeks.org/python/short-circuiting-techniques-python/), and [Match Statements](https://www.geeksforgeeks.org/python-match-case-statement/).\n",
    "\n",
    "With that out of the way, let's get some practice in, shall we?"
   ]
  },
  {
   "cell_type": "markdown",
   "id": "63b19996",
   "metadata": {},
   "source": [
    "### Exercise 2 - Classical Conditioning\n",
    "\n",
    "We'll be doing various exercises with `if` statements. Follow the instructions for each part. If you want extra practice, you can try mapping out the problems on a piece of paper or electronically!\n",
    "\n",
    "#### Part 1 - Navigation\n",
    "\n",
    "Below are some `if` statements! Try to work your way through the branches and predict the output of each block of code by writing it in a markdown cell or making a print statement!"
   ]
  },
  {
   "cell_type": "code",
   "execution_count": null,
   "id": "4e1bc839",
   "metadata": {},
   "outputs": [],
   "source": [
    "# 1\n",
    "\n",
    "x = True\n",
    "\n",
    "if x:\n",
    "\tprint(1)\n",
    "\n",
    "if not x:\n",
    "\tprint(2)"
   ]
  },
  {
   "cell_type": "code",
   "execution_count": null,
   "id": "d7fac92c",
   "metadata": {},
   "outputs": [],
   "source": [
    "# 2\n",
    "\n",
    "x = 5\n",
    "\n",
    "if x < 2:\n",
    "\tprint(1)\n",
    "elif x < 4:\n",
    "\tprint(2)\n",
    "else:\n",
    "\tprint(3)"
   ]
  },
  {
   "cell_type": "code",
   "execution_count": null,
   "id": "2539fc98",
   "metadata": {},
   "outputs": [],
   "source": [
    "# 3\n",
    "\n",
    "x = True or False\n",
    "y = True and False\n",
    "\n",
    "if x == y:\n",
    "\tprint(1)\n",
    "elif x and y:\n",
    "\tprint(2)\n",
    "elif x or y:\n",
    "\tprint(3)\n",
    "else:\n",
    "\tprint(4)"
   ]
  },
  {
   "cell_type": "code",
   "execution_count": null,
   "id": "f8f64285",
   "metadata": {},
   "outputs": [],
   "source": [
    "# 4\n",
    "\n",
    "x = 1 + 2\n",
    "y = 2 + 3\n",
    "z = 3 + 4\n",
    "\n",
    "if x and y and z:\n",
    "\tif x < y:\n",
    "\t\tprint(1)\n",
    "\telse:\n",
    "\t\tprint(2)\n",
    "else:\n",
    "\tif y < z:\n",
    "\t\tprint(3)\n",
    "\telse:\n",
    "\t\tprint(4)"
   ]
  },
  {
   "cell_type": "code",
   "execution_count": null,
   "id": "84259bdd",
   "metadata": {},
   "outputs": [],
   "source": [
    "# 5\n",
    "\n",
    "x = 5\n",
    "\n",
    "if x < 4:\n",
    "\tprint(1)\n",
    "if x < 6:\n",
    "\tprint(2)\n",
    "if x == 5:\n",
    "\tprint(3)\n",
    "else:\n",
    "\tprint(4)"
   ]
  },
  {
   "cell_type": "markdown",
   "id": "50cd6352",
   "metadata": {},
   "source": [
    "#### Part 2 - Branching Out\n",
    "\n",
    "Instead of answering some multiple choice questions, let's get your hands on the keyboard and typing a little bit of code! In this part, you'll be puzzle solving! Below are some `if` statements but you'll notice that at least one condition of the `if` or `elif` branches or variables have blanks (`_`). Your job is to complete these conditions by filling in these blanks with expressions such that:\n",
    "\n",
    "1. The `print(\"Puzzle Complete\")` code executes.\n",
    "2. No `print(\"Not Quite\")` statements execute.\n",
    "3. No other portion of the code is modified except for the blanks. You may declare additional variables to use but do not modify any other lines.\n",
    "\n",
    "Note that there can and should be multiple correct answers! Still, you may not find the solution on your first try and that's completely fine. Try to follow the branch and see what's going wrong! With that, best of luck!"
   ]
  },
  {
   "cell_type": "code",
   "execution_count": null,
   "id": "ad5b02d9",
   "metadata": {},
   "outputs": [],
   "source": [
    "# 1\n",
    "\n",
    "if _:               # Blank\n",
    "    print(\"Not Quite\")\n",
    "\n",
    "if _:               # Blank\n",
    "    print(\"Puzzle Complete\")"
   ]
  },
  {
   "cell_type": "code",
   "execution_count": null,
   "id": "6341b0ce",
   "metadata": {},
   "outputs": [],
   "source": [
    "# 2\n",
    "\n",
    "x = 42\n",
    "\n",
    "if x < _:  \t\t\t# Blank\n",
    "    print(\"Not Quite\")\n",
    "\n",
    "if x > _:  \t\t\t# Blank\n",
    "    print(\"Not Quite\")\n",
    "\n",
    "if x == 3 * _ + _:  # Blank\n",
    "    print(\"Puzzle Complete\")"
   ]
  },
  {
   "cell_type": "code",
   "execution_count": null,
   "id": "2aff0305",
   "metadata": {},
   "outputs": [],
   "source": [
    "# 3\n",
    "\n",
    "x = 42\n",
    "y = _  \t\t\t\t# Blank\n",
    "\n",
    "if x < y:\n",
    "    if x or y:\n",
    "        print(\"Not Quite\")\n",
    "    else:\n",
    "        print(\"Puzzle Complete\")\n",
    "elif x > y:\n",
    "    if x and y:\n",
    "        print(\"Not Quite\")\n",
    "else:\n",
    "    print(\"Not Quite\")\n",
    "\n",
    "if y or _:  \t\t# Blank\n",
    "    print(\"Puzzle Complete\")"
   ]
  },
  {
   "cell_type": "code",
   "execution_count": null,
   "id": "0c680909",
   "metadata": {},
   "outputs": [],
   "source": [
    "# 4\n",
    "\n",
    "x = 42\n",
    "y = _  \t\t\t\t\t# Blank\n",
    "z = _  \t\t\t\t\t# Blank\n",
    "\n",
    "if x == y + z:\n",
    "\tprint(\"Puzzle Complete\")\n",
    "\n",
    "if y * z > x:\n",
    "\tprint(\"Not Quite\")\n",
    "elif x // (y * z - _):\t# Blank\n",
    "\tprint(\"Not Quite\")\n",
    "else:\n",
    "\tprint(\"Not Quite\")"
   ]
  },
  {
   "cell_type": "markdown",
   "id": "5d59873b",
   "metadata": {},
   "source": [
    "#### Part 3 - A Strange Simulation\n",
    "\n",
    "Welcome to the last part of this exercise! Here, we'll be graduating from interpreting and writing conditions to writing full-on `if-elif-else` statements! This might be a rather large leap, so I'll try to ease you in. For each problem in this part, you'll be given a situation in markdown text. Construct a program that simulates the situation in Python! Try to pull out the relevant information as what are your conditionals and what branches and operators to use. Best of luck!\n",
    "\n",
    "As a bonus, I've provided a challenge that extends each problem ever so slightly. Generally, these will only require minor tweaks to your completed program, but may require a bit more thinking. I strongly encourage you take a stab at them once you're finished. Just click on the `Challenge` text to reveal the puzzle!\n",
    "\n",
    "##### 1. A Purchasing Dilemma\n",
    "\n",
    "You're at the store and you're looking to buy yourself some food. You decide to pick up a bag of chips for `$2.99`, some cookies for `$3.49`, and a sandwich for `$5.99`. The only problem is that you don't know if you're able to afford your snacks or not. Thankfully, you know Python and can write conditional statements! Write some code that prints `All clear!` if you can afford your food and `No cookies today :(` if you can't.\n",
    "\n",
    "<details>\n",
    "\t<summary>Problem 1 Challenge</summary>\n",
    "\tIt turns out that prepared foods (only the sandwich for your meal) have an `8%` additive tax, while the rest of your order remains tax-free. Can you still afford your meal?\n",
    "</details>"
   ]
  },
  {
   "cell_type": "code",
   "execution_count": null,
   "id": "080bff12",
   "metadata": {},
   "outputs": [],
   "source": [
    "# 1\n",
    "\n",
    "funds = 13.00\n",
    "\n",
    "chips_cost = 2.99\n",
    "cookies_cost = 3.49\n",
    "sandwich_cost = 5.99\n",
    "\n",
    "# Your code here!\n",
    "\n"
   ]
  },
  {
   "cell_type": "markdown",
   "id": "ce9731c2",
   "metadata": {},
   "source": [
    "##### 2. Alarm Clock\n",
    "\n",
    "Everyone likes to sleep in on weekends, but it's still important to not go too late! Let's make a Python program to simulate an alarm clock! To simulate which day of the week it is, we'll use a `day_of_week` int variable where `1` encodes `Monday`, `2` encodes `Tuesday`, ... `6` encodes `Saturday` and `7` encodes `Sunday`. Next, we have the following conditions:\n",
    "\n",
    "1. On weekdays, you have to wake up at `7 AM` to get ready for class! Please print `It's 7 AM, time to get ready!` to wake you up in time!\n",
    "2. On Saturday, you don't have much to do. You're good to sleep until `11 AM` and chill out for the rest of the day.\n",
    "3. While you don't have class on Sunday, it's the day your study group usually meets to discuss the homework due on Monday! Your group usually meets at `10 AM`, so you want to wake up at `8 AM` to get ready for the day.\n",
    "\n",
    "<details>\n",
    "\t<summary>Problem 2 Challenge</summary>\n",
    "\tInstead of a <code>day_of_week</code> variable, you instead have a <code>days_since_start</code> variable that starts at 0 and counts up by 1 for each day since the first day of class. Suppose you start on a Monday - that is, when the <code>days_since_start</code> variable equals 0, it's a Monday. Likewise, when it equals 1, it's a Tuesday as there's been one day since the start of class. At <code>days_since_start = 6</code> , we're at Sunday and at 7, we wrap back around to a Monday. How could you change your program to accomodate for this?\n",
    "</details>"
   ]
  },
  {
   "cell_type": "code",
   "execution_count": null,
   "id": "c70bca5a",
   "metadata": {},
   "outputs": [],
   "source": [
    "# 2\n",
    "\n",
    "day_of_week = 1\n",
    "\n",
    "# Your code here!\n",
    "\n"
   ]
  },
  {
   "cell_type": "markdown",
   "id": "f1c0f131",
   "metadata": {},
   "source": [
    "#### 3. Getting Straight As\n",
    "\n",
    "You're in a Calculus III course and the instructor has the following grading scheme: your assignments are split into five categories: `attendance`, `group work`, `homework`, `midterms`, and `finals`. Attendance and group work are worth 10% of your grade respectively, homeworks are worth 35%, your midterm is worth 20%, and the final is worth 25%. In total, we get 100%. You want to know what your final letter grade is going to be. In this university, letter grades are assigned as follows:\n",
    " - 90.0-93.9%: `A-`, 94.0-96.9%: `A`, 97.0%+: `A+`\n",
    " - 80.0-83.9%: `B-`, 84.0-86.9%: `B`, 87.0%-89.9%: `B+`\n",
    " - 70.0-73.9%: `C-`, 74.0-76.9%: `C`, 77.0%-79.9%: `C+`\n",
    " - < 70%: `D`\n",
    "\n",
    "Given your 5 categories of grades as variables, write a program that prints out your final letter grade!\n",
    "<details>\n",
    "\t<summary>Problem 3 Challenge</summary>\n",
    "\tYou just checked your syllabus again and your benevolent instructor is willing to round grades to the nearest percent if you're just at a grade cutoff (ex. 89.5% can be rounded to a 90.0%, changing the grade from B+ to A-); however, you have to show an honest effort in the class to be considered! This means you need to actively participate with a 100% attendance grade and score at least 80% on your group works! Can you update your program to take into account this grade rounding?\n",
    "</details>"
   ]
  },
  {
   "cell_type": "code",
   "execution_count": null,
   "id": "2c999587",
   "metadata": {},
   "outputs": [],
   "source": [
    "# 3\n",
    "\n",
    "# Your code here!\n",
    "\n"
   ]
  },
  {
   "cell_type": "markdown",
   "id": "e3e81b66",
   "metadata": {},
   "source": [
    "I hope you found these puzzles both challenging and enjoyable! Now that you're all caught up with conditionally executing code, let's move on to how we go about repeatedly executing lines of code, shall we?"
   ]
  },
  {
   "cell_type": "markdown",
   "id": "7ea7c17d",
   "metadata": {},
   "source": [
    "## The `while` loop\n",
    "\n",
    "Up until now, when we run our code, we've essentially used up each line just once and then threw it away for the rest of eternity. What if, however, we wanted to do a repetitive task multiple times? We would just copy and paste something like so:"
   ]
  },
  {
   "cell_type": "code",
   "execution_count": null,
   "id": "37340bd4",
   "metadata": {},
   "outputs": [],
   "source": [
    "# Example\n",
    "\n",
    "print(\"Hello World!\")\n",
    "print(\"Hello World!\")\n",
    "print(\"Hello World!\")\n",
    "print(\"Hello World!\")\n",
    "print(\"Hello World!\")"
   ]
  },
  {
   "cell_type": "markdown",
   "id": "808637cd",
   "metadata": {},
   "source": [
    "Yikes! That not only seems cumbersome to write but also annoying to edit if we want to change the code's behavior. What if we wanted to tell the world \"Hello\" 6 times? 10 times? [100](https://youtu.be/oiNPgJmtzVI?t=93) times? This is where the idea of *repeating* code comes in. Let's introduce the `while` loop to help us do just that.        \n",
    "\n",
    "Much like an `if` statement, a `while` loop takes in a boolean expression as a `condition`. They also have a code block that executes if said `condition` resolves to `True`. The key difference is that an `if` statement simply moves on to whatever is after it once its code block is executed or skipped. `while` loops, on the other hand, go back all the way to the beginning of the loop and keeps repeating until the `condition` resolves to `False`. Perhaps this will become clearer once we get to our beloved flowchart. In the meantime, let's take give our friend a formal introduction.\n",
    "\n",
    "<center>\n",
    "\n",
    "![\"A picture of a Python while loop with highlighted portions denoting the different parts of the syntax](../figures/lesson-2/while-loop.png)\n",
    "\n",
    "</center>\n",
    "\n",
    "You'll notice that this is just a word different from our `if` statements, which is quite handy to remember because `while` loops are essentially an `if` statement stuck on repeat! Let's take a look:\n",
    "\n",
    " 1. 🔴 `while` loops begin with the `while` keyword followed by a space.\n",
    " 2. 🔵 Next is the boolean condition expression which is evaluated every loop cycle.\n",
    " 3. 🟢 Top the first line off with a colon.\n",
    " 4. 🟡 Lastly is the indented code block that's executed every loop cycle.\n",
    " 5. To end your code block, simply end the indentation and the subsequent code will execute normally (seperate from the `if` statement).\n",
    "\n",
    "Perhaps this is best demonstrated with an example."
   ]
  },
  {
   "cell_type": "code",
   "execution_count": null,
   "id": "a0a39980",
   "metadata": {},
   "outputs": [],
   "source": [
    "# Example\n",
    "\n",
    "counter = 0\n",
    "\n",
    "while counter < 5:\n",
    "\tprint(\"Hello World!\")\n",
    "\tcounter += 1\n",
    "\n",
    "print(\"Loop Ended\")"
   ]
  },
  {
   "cell_type": "markdown",
   "id": "7725bd1b",
   "metadata": {},
   "source": [
    "Great! We've manage to achieve the exact same output as our naïve copy-paste solution, but also making it much cleaner and more extensible. Still, it may be a bit confusing if you've never seen a loop before. I think the clearest way to illustrate a loop is to see what the program is doing line-by-line. Below is a video of the previous example running line-by-line.\n",
    "\n",
    "<center>\n",
    "\t<video controls src=\"../figures/lesson-2/while-loop.mp4\" />\n",
    "</center>\n",
    "\n",
    "When the `while` loop is first reached, the condition is checked. In this case, it turns out to be `True`. Otherwise, the loop essentially acts like an `if` statement. Since our condition was satisfied, the entirety of the code block is executed and then the magic happens: we the code jumps back to the initial condition and check it again. We keep doing this until the condition resolves to `False` and we move on! Loops are extremely powerful and we can already make a bunch of useful programs! Our next example will be a simple [Fibonacci Number](https://en.wikipedia.org/wiki/Fibonacci_sequence) calculator. Feel free to skip to the code if you already know what they are.       \n",
    "\n",
    "The Fibonacci Sequence is a simple sequence that begins with two numbers: F<sub>0</sub> = 0, F<sub>1</sub> = 1. Afterwards, the next Fibonacci number is obtained by adding the two Fibonacci numbers before it, that is, F<sub>2</sub> = F<sub>0</sub> + F<sub>1</sub> and F<sub>3</sub> = F<sub>1</sub> + F<sub>2</sub>. And more generally, F<sub>n</sub> = F<sub>n - 2</sub> + F<sub>n - 1</sub>. These numbers show up rather frequently in both nature and number theory. If you've heard of the [Golden Ratio](https://en.wikipedia.org/wiki/Golden_ratio), the Fibonacci numbers are a classic example where the ratio between successive terms approaches it. Well, now you have the rundown, let's get generating!"
   ]
  },
  {
   "cell_type": "code",
   "execution_count": null,
   "id": "9e26db52",
   "metadata": {},
   "outputs": [],
   "source": [
    "# Example\n",
    "# Calculates the nth Fibonacci Number\n",
    "\n",
    "n = 100\n",
    "\n",
    "f1 = 0\n",
    "f2 = 1\n",
    "counter = 2  \t\t\t\t# Set it to 2 because we've already computed f1, f2!\n",
    "\n",
    "while counter < n:\n",
    "\told_f2 = f2\t\t\t\t# Store f2 in a temporary variable\n",
    "\tf2 = f1 + f2\t\t\t# because we overwrite it here!\n",
    "\tf1 = old_f2\t\t\t\t# Set f1 to the old value of f2\n",
    "\n",
    "print(f2 if n > 1 else 0)\t# Prints f2 if n > 1, otherwise 0 (treated as a special case)"
   ]
  },
  {
   "cell_type": "markdown",
   "id": "91731516",
   "metadata": {},
   "source": [
    "Hmmm... does the program seem to be stalling? Go ahead and press the \"Stop Cell\" button on the top left of the cell. It appears that you've been swindled! There's actually a relatively common error in the code–take another look at the code above and see if you can spot it! We need to fix this bug before we get to generate our beloved Fibonacci numbers! **Hint**: Think of why the code seemed to be running forever.       \n",
    "\n",
    "If you were able to piece things together, you should have figured out that because our `while` loop never stopped. If you looked into why, you also may have realized that it's because the condition (`counter < n - 2`) never changes, so we're effectively writing `while 2 < 100:`! This is the common error known as an ***Infinite Loop***. So how do we fix this? We need to find a way to update the condition dynamically inside of the `while` loop code block so that at some point, the condition becomes `False` and we can terminate the program. One approach is to update our `counter` variable to actually count upwards inside the code block! Let's go ahead and add that line and then see how things run. "
   ]
  },
  {
   "cell_type": "code",
   "execution_count": null,
   "id": "fbb6123b",
   "metadata": {},
   "outputs": [],
   "source": [
    "# Example\n",
    "# Calculates the nth Fibonacci Number (but it actually works)\n",
    "\n",
    "n = 100\n",
    "\n",
    "f1 = 0\n",
    "f2 = 1\n",
    "counter = 2                 # Set it to 2 because we've already computed f1, f2!\n",
    "\n",
    "while counter < n:\n",
    "    old_f2 = f2             # Store f2 in a temporary variable\n",
    "    f2 = f1 + f2            # because we overwrite it here!\n",
    "    f1 = old_f2             # Set f1 to the old value of f2\n",
    "    counter += 1            # Fixes the bug by updating the counter!\n",
    "\n",
    "print(f2 if n > 1 else 0)   # Prints f2 if n > 1, otherwise 0 (treated as a special case)"
   ]
  },
  {
   "cell_type": "markdown",
   "id": "1a45d98a",
   "metadata": {},
   "source": [
    "Much better! Now with each iteration, our `counter` variables slowly increases until it reaches `n`, ending the loop. Let's now get out our favorite flow chart to help us further visualize the code execution!\n",
    "\n",
    "<center>\n",
    "\n",
    "![A picture of a of a flowchart that follows the code execution order of the Fibonacci example of a while loop](../figures/lesson-2/while-flow-chart.png)\n",
    "\n",
    "</center>\n",
    "\n",
    "This may be a bit harder to follow if you aren't separately keeping track of the value of `counter`. Try to notice the physical loop within the flow chart! That's how you know we're possibly repeating and reusing code! Also notice how that if our condition is never able to evaluate to `False`, the program never reaches the end. My suggestion is to try to follow the flow chart for a small value of `n`. Afterwards, let's get your hands on the keyboard with our first programming exercise!"
   ]
  },
  {
   "cell_type": "markdown",
   "id": "5bb44e1d",
   "metadata": {},
   "source": [
    "### Programming Activity 1 - Lucas Numbers\n",
    "\n",
    "You've heard of the Fibonacci Sequence, but there's also exists its cousin, the [Lucas Numbers](https://en.wikipedia.org/wiki/Lucas_number). These follow the exact same rule as the Fibonacci Numbers with one major exception: instead of starting  F<sub>0</sub> = 0, F<sub>1</sub> = 1, the Lucas Numbers start L<sub>0</sub> = 2, L<sub>1</sub> = 1. Subsequent terms follow the same rule as Fibonacci–that is, the next Lucas Number is defined as the sum of the two previous Lucas Numbers (L<sub>n</sub> = L<sub>n - 2</sub> + L<sub>n - 1</sub> = 1). One fun fact is that some of the largest primes are in part [tested](https://en.wikipedia.org/wiki/Baillie%E2%80%93PSW_primality_test) for their primality using these numbers!       \n",
    "\n",
    "Anyways, your job is to make a program that generates the *n<sup>th</sup>* Lucas Number. Is this extremely similar to the Fibonacci generator? Of course! That means you should be quite familiar with how we would go about writing a program for this purpose. The goal at the end of the day is simply to get your fingers typing out functional code! I suggest you try your best to first tackle this challenge without referencing the above example. As a hint, here are some of the guiding questions that would be helpful to ask yourself as you code:\n",
    " - What variables (if any) do I need to declare?\n",
    " - What tools (`if` statements, `while` loops, operators) do I need?\n",
    " - What should the conditions be for the `if` statements and `while` loops?\n",
    " - What should be in the code blocks associated with the statements and loops?\n",
    " - What do I need to change from the Fibonacci program to adapt it to this new prompt?\n",
    "\n",
    "To check your program for functionality, try generating the 100<sup>th</sup> Lucas Number: `489526700523968661124` and use it to check your work!\n",
    "If you're having trouble after giving it an honest effort, take a look at the flowchart and try to better understand the structure of the program! Best of luck and happy coding!"
   ]
  },
  {
   "cell_type": "code",
   "execution_count": null,
   "id": "71dfcc59",
   "metadata": {},
   "outputs": [],
   "source": [
    "# Your code here!\n",
    "\n"
   ]
  },
  {
   "cell_type": "markdown",
   "id": "7fda8651",
   "metadata": {},
   "source": [
    "I hope you found that exercise not too challenging but also enjoyable and at least a little bit fulfilling! Either way, congratuations on writing your first functional Python program all from scratch!      \n",
    "Let's introduce one final piece of flow control before we tackle another programming challenge!\n",
    "\n",
    "## The `for` loop\n",
    "\n",
    "So far, we've discussed the `while` loop, which loops while some conditional boolean expression is true. The `for` loop behaves a little bit differently: instead of taking a conditional expression, it uses what is known as an `iterable`. \"What's an `iterable`?\" Well, I'm glad you asked. An ***iterable*** is a data type with the property that it produces individual items one at a time in some order. Perhaps a real life example would be a a To-Do list which would produce the strings `\"Breakfast\"`, `\"School\"`, `\"Lunch\"`, `\"Homework\"`, `\"Dinner\"` in that order. A `for` loop would then execute its code block for each item in the iterable, so for the example given, it'd execute a total of 5 times. Okay, then how do we get our hands on these magical iterators then? Let's familiarize ourselves with one of them below.\n",
    "\n",
    "### The `range()` function\n",
    "\n",
    "In [Lesson 1](./Lesson%201%20-%20Variables.ipynb), you were introduced to the `print()`, `round()`, and `input()` functions. We discussed that we pass through variables or expressions called arguments are the functions perform an effect or return an output. The `range()` function is simply another one of these functions that Python provides that returns an iterable `range` object. When passing arguments in, you can pass anywhere from 1 to 3 total arguments. We'll go over each case one by one and see how the range function behaves:\n",
    "\n",
    "#### One argument\n",
    "\n",
    "When passing only a single argument, an integer called `stop`, in, the range function will create an iterable with integers 0 to the integer `stop` (non-inclusive). In other words, it will create an iterable that provides every integer from 0 to *stop - 1* for a total of `stop` iterations."
   ]
  },
  {
   "cell_type": "code",
   "execution_count": null,
   "id": "10d1768f",
   "metadata": {},
   "outputs": [],
   "source": [
    "# Example\n",
    "\n",
    "print(*range(1))\t\t# The star is simply to separate the iterator into its iterable components \n",
    "print(*range(5))\n",
    "print(*range(-5))\n",
    "print(*range(10))\n",
    "print(*range(3 * 5))"
   ]
  },
  {
   "cell_type": "markdown",
   "id": "765275a5",
   "metadata": {},
   "source": [
    "#### Two arguments\n",
    "\n",
    "For the two argument case, the first argument will be called the `start` and the second will be called the `stop`. The range function then provides an iterator from the start value (inclusive) to the stop value. What we're essentially doing is providing our own custom value to start at instead of the default of 0 when we don't provide this extra argument. Note that `start` must be less than `stop` or else we won't generate anything to iterate over. The total number of iterations will be equal to `stop - start` assuming both are valid."
   ]
  },
  {
   "cell_type": "code",
   "execution_count": null,
   "id": "586f1021",
   "metadata": {},
   "outputs": [],
   "source": [
    "# Example\n",
    "\n",
    "print(*range(0, 5))\t\t# Equivalent to range(5)\n",
    "print(*range(-5, 5))\n",
    "print(*range(5, -5))\n",
    "print(*range(10, 20))"
   ]
  },
  {
   "cell_type": "markdown",
   "id": "40a1629a",
   "metadata": {},
   "source": [
    "#### Three arguments\n",
    "\n",
    "Last but not least, if we're feeling fancy, we can pass in a whopping three integers into the `range()` function. These arguments are, in order, `start`, `stop`, and `step`. We've already gone over `start` and `stop`. So far, we've been counting up one by one, but what if we only want even or only want odd numbers? Clearly, counting one at a time won't work as those differ by 2, not 1! The `step` size is the integer difference between consecutive terms. For the even numbers then, we'd start at an even number with a step size of 2. Likewise, for odd numbers, we'd start at an odd number with a step size of two. Negative step sizes also work! Take a look!"
   ]
  },
  {
   "cell_type": "code",
   "execution_count": null,
   "id": "1039bf0e",
   "metadata": {},
   "outputs": [],
   "source": [
    "# Example\n",
    "\n",
    "print(*range(0, 5, 1))\t\t# Equivalent to range(5)\n",
    "print(*range(2, 11, 2))\n",
    "print(*range(0, -10, -1))\n",
    "print(*range(0, 10, -1))\n",
    "print(*range(10, 0, -1))"
   ]
  },
  {
   "cell_type": "markdown",
   "id": "250393cf",
   "metadata": {},
   "source": [
    "#### Yet another iterator\n",
    "\n",
    "I also may not have been entirely honest when saying that ranges are your iterator! In a way, `strings` are an interable list (or string if you will) of characters! For example, the string `abcdefghijklmnopqrstuvwxyz` will iterate over the alphabet in order!"
   ]
  },
  {
   "cell_type": "code",
   "execution_count": null,
   "id": "4a1d0f23",
   "metadata": {},
   "outputs": [],
   "source": [
    "# Example\n",
    "\n",
    "print(*\"abcdefghijklmnopqrstuvwxyz\")\n",
    "print(*\"This is an iterator!\")\n",
    "print(*\"W\")"
   ]
  },
  {
   "cell_type": "markdown",
   "id": "f2066ce7",
   "metadata": {},
   "source": [
    "While these strings are indeed iterators, they're generally not as useful in `for` loops for our specific use cases, at least compared to ranges. This is because we'll generally use `for` loops to either iterate a specific number of times or a more structured piece of data like a list. You should only use them as iterators if you're processing the string itself!\n",
    "\n",
    "#### The `len()` function\n",
    "\n",
    "One last piece of iterator technology before we go back to `for` loops! One common occurence is that you want to know how many elements are in your iterable! With ranges, it's generally easy to work things out; however, it can be useful for something like strings and more structured iterables. This is where the `len()` (short for *length*) function comes in! Pass in an iterable and it'll output its length!"
   ]
  },
  {
   "cell_type": "code",
   "execution_count": null,
   "id": "ad9c2474",
   "metadata": {},
   "outputs": [],
   "source": [
    "# Example\n",
    "\n",
    "print(f\"{tuple(range(2, 11, 2))} has length {len(range(2, 11, 2))}\")\n",
    "print(f\"{tuple(range(0))} has length {len(range(0))}\")\n",
    "print(f\"{'abcdefghijklmnopqrstuvwxyz'} has length {len('abcdefghijklmnopqrstuvwxyz')}\")"
   ]
  },
  {
   "cell_type": "markdown",
   "id": "56bd369d",
   "metadata": {},
   "source": [
    "### Back to the main course\n",
    "\n",
    "Now with our first iterators in our toolkit, let's get back to looking at our `for` loops! Without going into details, each iterable will allow our `for` loop to iterate over all its entries exactly once in some order. A common use case is iterating over a `range` a set number of times. For example, let's say you want to print `\"Hello World\"` 5 times. We would simply iterate over a `range` of length 5, conveniently afforded to us via `range(5)`. Of course, all of this is moot if we don't know what `for` loops look like, so let's take a preview before we it for a spin:\n",
    "\n",
    "<center>\n",
    "\n",
    "![\"A picture of a Python for loop with highlighted portions denoting the different parts of the syntax](../figures/lesson-2/for-loop.png)\n",
    "\n",
    "</center>\n",
    "\n",
    "These look a little bit different compared to everything else we've seen so far, so let's break it down:\n",
    "\n",
    " 1. 🔴 As always, we start with a keyword. In the case of `for` loops, we begin with the `for` keyword followed by a space.\n",
    " 2. 🔵 Next is a variable name that will take the place of each item we're looping through. It's common practice to name this `i` for historical reasons related to mathematical indexing if you're just looping for the number. Otherwise, using an appropriate variable name (ex. `task` when looping through a to-do list) is suggested.\n",
    " 3. 🟣 Follow the variable with the `in` keyword and a space. \n",
    " 4. ⚫ Afterwards, we provide our iterable. This can be either an expression (such as `range(5)`) or variable name that resolves into an iterable.\n",
    " 5. 🟢 We end our `for` loop line with a colon as usual.\n",
    " 6. 🟡 The code block we want to loop through! As per usual, make sure you use proper indentation!\n",
    "\n",
    "Now that we've gotten to know our `for` loops, let's dive right into some examples!"
   ]
  },
  {
   "cell_type": "code",
   "execution_count": null,
   "id": "0582f9d2",
   "metadata": {},
   "outputs": [],
   "source": [
    "# Example\n",
    "\n",
    "for i in range(5):\n",
    "\tprint(\"Hello World!\")\n",
    "\n",
    "print(\"Loop Ended\")"
   ]
  },
  {
   "cell_type": "markdown",
   "id": "af474c39",
   "metadata": {},
   "source": [
    "Let's give ourselves a pat on the back as we've once again recreated our copy-and-paste code in a much more elegant manner. Suppose we wanted to print `\"Hello World\"` a different number of times - all we'd have to do is change the number in the range function! Let's take a closer look at the loop in action:\n",
    "\n",
    "<center>\n",
    "\t<video controls src=\"../figures/lesson-2/for-loop.mp4\" />\n",
    "</center>\n",
    "\n",
    "Hope the line-by-line playback helps you understand the dynamics of the loop. In particular, try to pay attention to how the iterator changes throughout the course of the code runtime, especially when the loop starts and ends! Once you know that, you can work out everything in the middle.\n",
    "\n",
    "Lastly, note that the variable we declare in our `for` loop line can be used within the code block like any other variable! This can be useful if you want to perform an operation on every member of an iterator or simply keep a running count in the case of a range function. For example, let's say we wanted to calculate the sum of the first *n* positive integers. We can use the numbers in a `range` iterator directly as the numbers we add up!"
   ]
  },
  {
   "cell_type": "code",
   "execution_count": null,
   "id": "8d0301e2",
   "metadata": {},
   "outputs": [],
   "source": [
    "# Example\n",
    "\n",
    "total = 0\n",
    "n = 100\n",
    "\n",
    "for i in range(n):\n",
    "\ttotal += n + 1\t# n + 1 because we start at 0 and end at n - 1, adding 1 corrects to 1 to n.\n",
    "\n",
    "print(total)"
   ]
  },
  {
   "cell_type": "markdown",
   "id": "11c2f0ea",
   "metadata": {},
   "source": [
    "Of course, if you're a smarty pants, you'd know that this summation actually has a [closed-form solution](https://en.wikipedia.org/wiki/Triangular_number#Formula), but it's still a good way to illustrate the point. An even better way to illustrate the code is with a flow chart!\n",
    "\n",
    "<center>\n",
    "\n",
    "![A picture of a of a flowchart that follows the code execution order of the sum of positive integers for loop](../figures/lesson-2/for-flow-chart.png)\n",
    "\n",
    "</center>\n",
    "\n",
    "Once again, try to recognize the physical loop in the flow chart and follow it for a small example, keeping track of both the `total` and how far our index `i` is through the range! After you're finished, we'll discuss one last new topic with respect to loops.\n",
    "\n",
    "### The `break` statement\n",
    "\n",
    "Earlier, we discussed the potential pitfall of infinite loops, where our `while` loops can never stop. While these are very much undesireable most of the time, there's a tool we can utilize to turn what normally would be an infinite loop (or any loop for that matter) into a useful construct. This tool, of course, is the `break` statement. It's a single keyword that goes inside of loops' code blocks and upon reaching its line will immediately break out of the loop. This includes skipping the rest of the code block. Using this means that we can effectively break out of infinite loops if we code it up beforehand. Let's start with a trivial example:"
   ]
  },
  {
   "cell_type": "code",
   "execution_count": null,
   "id": "a1d96539",
   "metadata": {},
   "outputs": [],
   "source": [
    "# Example\n",
    "\n",
    "counter = 0\n",
    "\n",
    "while True:\n",
    "    print(\"Hello World!\")\n",
    "    counter += 1\n",
    "    if counter == 5:\n",
    "        break\n",
    "\n",
    "print(\"Loop finished!\")"
   ]
  },
  {
   "cell_type": "markdown",
   "id": "065d8d89",
   "metadata": {},
   "source": [
    "The `while True:` condition would normally loop forever if not for our `break` statement! Let's take a closer look at what's happening with a handy dandy flowchart!\n",
    "\n",
    "<center>\n",
    "\n",
    "![A picture of a of a flowchart that follows the code execution order of the above example of the break statement](../figures/lesson-2/break-flow-chart.png)\n",
    "\n",
    "</center>\n",
    "\n",
    "The type of structure used in this example wouldn't be that useful within an actual program, though, as you'd rather just use a condition. When would we use our `break` statements then? Let's discuss some scenarios:\n",
    "\n",
    "1. You're only looking for a specific item in an iterator (you don't know where of course), but once you find it, you don't need to search anymore - you can just break out! As an example, suppose you have a list of student ID numbers. You want to check the information of a specific student - run a `for` loop over the iterator and `break` once you've concluded your search or automatically once you've exhausted all entries.\n",
    "2. You want to guarantee the code in a `while` loop executes at least once. This may be called a `do while` loop in other languages. You can achieve the same behavior with using `while True` and putting the condition you'd normally put at the end of the code block in an `if` statement with a `break` statement.\n",
    "3. More niche reasons you may want to exit a loop early. For example, the user inputs an exit code or presses the exit button or you specifically want to execute the code at the beginning of the code block but not at the end."
   ]
  },
  {
   "cell_type": "markdown",
   "id": "7c19d36f",
   "metadata": {},
   "source": [
    "### The `continue` statement\n",
    "\n",
    "Perhaps fully cutting ties with our loops via `break` is a bit too harsh, but we also want to *skip* some cases that aren't relevant. For example, suppose we want to process only perfect square numbers (1, 4, 9, 16, 25, etc). In other words, we want to skip all the non-perfect squares when iterating. We can do that with a `continue` statement! The statement, once reached (usually as a path in an if-statement), will skip the rest of the code block and move onto the next loop iteration. Let's take a look: "
   ]
  },
  {
   "cell_type": "code",
   "execution_count": null,
   "id": "b68da79c",
   "metadata": {},
   "outputs": [],
   "source": [
    "# Example\n",
    "\n",
    "counter = 1\n",
    "\n",
    "for i in range(101):\n",
    "\tif pow(counter, 2) != i:\n",
    "\t\tcontinue\n",
    "\t\n",
    "\tprint(f\"{counter} squared is {i}\")\n",
    "\tcounter += 1"
   ]
  },
  {
   "cell_type": "markdown",
   "id": "a0bfaaad",
   "metadata": {},
   "source": [
    "Here, we're using the continue statement to skip anything that isn't equal to the next square number! For one final time this lesson, let's inspect the flow chart:\n",
    "\n",
    "<center>\n",
    "\n",
    "![A picture of a of a flowchart that follows the code execution order of the above example of the continue statement](../figures/lesson-2/continue-flow-chart.png)\n",
    "\n",
    "</center>\n",
    "\n",
    "You may be asking: can't you do this with a normal if-statement to skip the code instead? Perhaps you were thinking of something like this:"
   ]
  },
  {
   "cell_type": "code",
   "execution_count": null,
   "id": "a35c1272",
   "metadata": {},
   "outputs": [],
   "source": [
    "# Example\n",
    "\n",
    "counter = 1\n",
    "\n",
    "for i in range(101):\n",
    "\tif counter ** 2 == i:\n",
    "\t\tprint(f\"{counter} squared is {i}\")\n",
    "\t\tcounter += 1"
   ]
  },
  {
   "cell_type": "markdown",
   "id": "5fa06da5",
   "metadata": {},
   "source": [
    "And you'd very much be correct! Indeed, you can write functionally the same code without using `continue`. That then begs the question: what value does `continue` bring to the table?\n",
    "The short answer is code clarity and avoiding nesting. It's quite clear when you see a continue statement that it's some case that you don't wish to handle, and it's usually right at the top of the loop. Suppose the body of our if-statement was longer: we'd have to scroll down in order to see if we're skipping or not! Notice how we also avoid additional nesting in our `continue` example as it allows us to put the main meat of the loop using one less indentation block. While it still remains relatively clean, things can get out of hand with more complex nestings, and `continue` is one tool to clean things up! \n",
    "\n",
    "### Nesting Loops\n",
    "\n",
    "Similar to `if` and `else` statements, we can nest loops within each other. What does this do exactly then? See if you can ponder on it and figure it out!     \n",
    "If you answered that for each iteration of the outter loop, we'd be repeating something in the inner loop, you'd be correct! Let's take a look at the example below."
   ]
  },
  {
   "cell_type": "code",
   "execution_count": null,
   "id": "2b806097",
   "metadata": {},
   "outputs": [],
   "source": [
    "# Example\n",
    "\n",
    "# Iterates i from -1 to 1\n",
    "for i in range(-1, 2):\n",
    "    # Iterates j from -1 to 1\n",
    "    for j in range(-1, 2):\n",
    "        print(f\"({i}, {j})\")\n",
    "\n",
    "print(\"Loop ended\")"
   ]
  },
  {
   "cell_type": "markdown",
   "id": "514d277a",
   "metadata": {},
   "source": [
    "Perhaps a line-by-line rundown can see how the code is moving in the above example!\n",
    "\n",
    "<center>\n",
    "\t<video controls src=\"../figures/lesson-2/nested-loop.mp4\" />\n",
    "</center>\n",
    "\n",
    "Nesting loops is generally multiplicative in terms of how many total iterations you have. For example, in the above example, our outer loop (`i`) has 3 total iterations. Our inner loop (`j`) also has three. We get `3 x 3 = 9` total iterations! In terms of usage, you'll see this come up often when you're going over multi-dimensional iterables.     \n",
    "In the above example, our program listed all ordered pairs that fit in a square of side length 2 centered at the origin. For a real life example, suppose you want to process each student in a school district. Your data comes in the form of an iterable of schools. Each school in the iterable then has an iterable of students! You could easily comb through every student with some nested loops!\n",
    "\n",
    "### `for` loops vs `while` loops\n",
    "\n",
    "You may be wondering why there even exist two different loops if we can essentially achieve the same thing with both. While it can be a matter of preference, there are certain guidelines you can use to choose the easier of the two:\n",
    "\n",
    " - For loops are better if you know ahead of time how much you plan to loop, whether it be a calculated amount (via a literal or variable) or through the entirety of an iterator. Let's say you want to find the number of times a certain letter appears in a string. You know from the beginning that no matter what, you'll have to look through the entire string, so the simplest way to do this is to just iterate through the entire string.\n",
    "   - For loops also come with a built-in counter with its index. If you find yourself needing to use it to linearly index something, it's likely the better option.\n",
    " - While loops are the opposite: where you don't know ahead of time how much you want to loop. Thus, you make best use of the conditional nature of the loop. Suppose you want to check the number of digits. One way we can do this is to repeatedly divide by 10, decreasing the digit each time until the number equals 0. A for loop wouldn't do us much good here since we'd have to know the answer ahead of time! While this possible with a pretty nasty logarithmic expression, it's more intuitive to do this with repeated integer division.\n",
    "\n",
    "We can demonstrate these two concepts with the following examples:"
   ]
  },
  {
   "cell_type": "code",
   "execution_count": null,
   "id": "b8069657",
   "metadata": {},
   "outputs": [],
   "source": [
    "# Example 1 (counts number of letters in a search string)\n",
    "\n",
    "# These backslashes allow multi-line strings!   ↓\n",
    "search_string = \"beware the jabberwock, my son! \\\n",
    "    \t\t\t the jaws that bite, the claws that catch! \\\n",
    "\t\t\t\t beware the jubjub bird, and shun \\\n",
    "    \t\t\t the frumious bandersnatch!\"\n",
    "search_char = \"a\"\n",
    "counter = 0\n",
    "\n",
    "for char in search_string:\n",
    "\tif char == search_char:\n",
    "\t\tcounter += 1\n",
    "\n",
    "print(f\"There are {counter} '{search_char}'s in the string!\")"
   ]
  },
  {
   "cell_type": "code",
   "execution_count": null,
   "id": "9d5b1350",
   "metadata": {},
   "outputs": [],
   "source": [
    "# Example 2 (counts the number of digits in a number)\n",
    "\n",
    "# You can use underscores as commas when working with large literals!\n",
    "num = 1_234_567_890\n",
    "\n",
    "counter = 0\n",
    "abs_num = abs(num)  # Take the absolute value to handle negatives.\n",
    "\n",
    "# An example of a \"do while\" loop!\n",
    "# The reason we do this is to implicitly handle the 0 case.\n",
    "while True:\n",
    "\tabs_num //= 10\t# Each loop, we \"remove\" the ones place digit via division.\n",
    "\tcounter += 1\t# After removing it, we tally it in our counter variable.\n",
    "\n",
    "\tif abs_num == 0:\n",
    "\t\tbreak\n",
    "\n",
    "print(f\"The number {num} has {counter} digits!\")"
   ]
  },
  {
   "cell_type": "markdown",
   "id": "1eb529db",
   "metadata": {},
   "source": [
    "I recommend you play around with these two examples and walk through the code! If you're daring, I suggest trying to build your intuition by making a flow chart for the structure of these programs as well. The goal here is to try to get your intuition to a point where you no longer need to do so. If you want to get hands-on with an optional assignment, try to translate either the Fibonacci or Lucas numbers program from a `while` loop to a `for` loop below! Which of the two loops do you prefer for this particular instance? Afterwards, let's get on to our second programming activity!"
   ]
  },
  {
   "cell_type": "markdown",
   "id": "660fa58b",
   "metadata": {},
   "source": [
    "### Programming Activity 2 - FizzBuzz\n",
    "\n",
    "Let's put everything from this lesson together in a classical programming challenge: the game of [FizzBuzz](https://en.wikipedia.org/wiki/Fizz_buzz). In essence, Alice and Bob take turns counting (Alice begins, followed by Bob, then back to Alice, etc.) with the following rules:\n",
    "\n",
    "1. If the number is divisible by 3, say `Fizz`\n",
    "2. If the number is divisible by 5, say `Buzz`\n",
    "3. If the number is divisible by both 3 and 5, say `FizzBuzz`\n",
    "4. Otherwise, say the number itself, i.e. `2`\n",
    "\n",
    "Your job is to make a program to simulate and print out the game between Alice and Bob, beginning with Alice's turn saying `1`, which would be printed as the string `\"Alice: 1\"`. The game continues for the `num_turns` variable defined at the start of the code.     \n",
    "\n",
    "As an example, the first 10 turns of FizzBuzz will look like the following:     \n",
    "\n",
    "```Python\n",
    "Alice: 1\n",
    "Bob: 2\n",
    "Alice: Fizz\n",
    "Bob: 4\n",
    "Alice: Buzz\n",
    "Bob: Fizz\n",
    "Alice: 7\n",
    "Bob: 8\n",
    "Alice: Fizz\n",
    "Bob: Buzz\n",
    "```\n",
    "This is your first more open-ended programming challenge and I hope you enjoy! Once again, it may help to break the core functionality down into several parts:  \n",
    " - What variables should you declare?\n",
    " - What tools and Python language constructs should you use (i.e. *how* are you going to achieve the program behavior?)\n",
    " - What conditions or iterators are you going to use for your `if` statements, `while` loops, and `for` loops?\n",
    " - What general behavior should be in and out of the code blocks for your statements?\n",
    " - Are there any other edge cases you need to handle for this program?\n",
    "\n",
    "There's a lot to consider, but don't fret! Try to answer each question one at a time. Also note that there are so many ways that you can handle each question! Try to think of all the tools you've learned so far and pick one that you think would best suit the purpose. If you're stuck, I suggest iterating on a solution in the following order:       \n",
    "\n",
    "1. Print the numbers 1 up to `num_turns` in order.\n",
    "2. Add in functionality to print in Fizz and Buzz where they should be.\n",
    "   - You can start out by printing it out alongside the number. Then, work to *replace* the number with the Fizz and Buzz.\n",
    "3. Add in functionality to print in FizzBuzz where it should be.\n",
    "4. Add in functionality to print Alice and Bob's names.\n",
    "\n",
    "With that, I wish you the best of luck!"
   ]
  },
  {
   "cell_type": "code",
   "execution_count": null,
   "id": "3c0c95fc",
   "metadata": {},
   "outputs": [],
   "source": [
    "num_turns = 100\n",
    "\n",
    "# Your code here!"
   ]
  },
  {
   "cell_type": "markdown",
   "id": "747c93ab",
   "metadata": {},
   "source": [
    "## Key Takeaways\n",
    "\n",
    " - Booleans and non-boolean values can be operated on via the operators `and`, `or`, and `not`.\n",
    "   - For non-boolean values, they rely on their `truthiness` property.\n",
    " - Flow control allows us to conditionally execute code as well as repeatedly execute lines of code.\n",
    " - The `if` statement conditionally executes a following code block if its conditional expression resolves to `True`.\n",
    "   - You can further branch off `if` statements with `else` and `elif` statements.\n",
    "   - The order of additional conditions matter as code is executed sequentially in a top-down fashion!\n",
    " - The `while` loop continues executing the following code block as long as its condition resolves to `True`\n",
    "   - It's paramount to be able to update the condition either externally or within the code block to not result in an `infinite` loop!\n",
    " - The `for` loop continues executing the following code block for each item in its `iterator`.\n",
    "   - Iterators are an object that output items in a set order.\n",
    "   - The `range()` function results in an iterator of `int`s based on a start, stop, and step we provide. The defaults values for which are 0, N/A, and 1 respectively.\n",
    "   - `str`s are also iterators!\n",
    " - You can exit out of any loop with a `break` statement!\n",
    " - You can skip an iteration of a loop with a `continue` statement!\n",
    " - Nesting loops are for when you need to repeat something each iteration!\n",
    " - Try to use `for` loops if you need the indexing or know ahead of time the number of iterations. Use `while` loops for when it's difficult to know how many loops you need ahead of time!"
   ]
  }
 ],
 "metadata": {
  "kernelspec": {
   "display_name": "Python 3",
   "language": "python",
   "name": "python3"
  },
  "language_info": {
   "codemirror_mode": {
    "name": "ipython",
    "version": 3
   },
   "file_extension": ".py",
   "mimetype": "text/x-python",
   "name": "python",
   "nbconvert_exporter": "python",
   "pygments_lexer": "ipython3",
   "version": "3.10.2"
  }
 },
 "nbformat": 4,
 "nbformat_minor": 5
}
