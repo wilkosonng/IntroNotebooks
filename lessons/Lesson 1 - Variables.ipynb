{
 "cells": [
  {
   "cell_type": "markdown",
   "metadata": {},
   "source": [
    "# Lesson 1\n",
    "\n",
    "So I see you want to learn Python? Great! What are you waiting for? Let's just right in!\n",
    "In this lesson, we'll be going over some of the absolute fundamentals. If you're already somewhat familiar with programming, this might just be a refresher plus a little bit of about conventions within Python. \n",
    "\n",
    "First, I want to make sure you're familiar with this editor.\n",
    "What you're currently in is called a Jupyter notebook. It lets me write text and show code both on the same page. Quite cool!\n",
    "\n",
    "We have two types of cells: Markdown cells for text and Python cells for executing Python code.\n",
    "\n",
    "What you're currently reading is a Markdown cell, but let's not worry about that for now and get to what you're here for - you want to learn how to code! Below you is a Python cell. You can write your code in it and then run it on the spot! If you ran previous cells before it, your latest cell ran will remember all the contexts of those previous cells when executing the perfect one (ex. you performed a calculation in a previous you want to use in the current cell). \n",
    "Let's try running the cell - either hover over it and press the *Run* button on the left:     \n",
    "<div style=\"text-align: center;\">\n",
    "\n",
    "![Image pointing to the play button on the left](https://i.imgur.com/LGh6HPc.png \"Image\")    \n",
    "</div> \n",
    "\n",
    "Or click within the cell and press `Ctrl + Alt + Enter` or `Shift + Enter`."
   ]
  },
  {
   "cell_type": "code",
   "execution_count": null,
   "metadata": {},
   "outputs": [],
   "source": [
    "print(\"You just ran a Python cell!\")"
   ]
  },
  {
   "cell_type": "markdown",
   "metadata": {},
   "source": [
    "Great! Hopefully you got it to output an obvious statement!    \n",
    "To actually create a cell, simply hover your mouse under this message and press either the `+Code` button for a Python cell or the `+Markdown` button for a Markdown cell!       \n",
    "<div style=\"text-align: center;\">\n",
    "\n",
    "![Image showing the Code and Markdown buttons](https://i.imgur.com/nOr7oOY.png)  \n",
    "</div>  \n",
    "Give it a try! You don't have to write anything - just try inserting a cell below this current cell!"
   ]
  },
  {
   "cell_type": "markdown",
   "metadata": {},
   "source": [
    "### Now, onto the code!\n",
    "\n",
    "That's basically all you needed to know about how this editor works. Now let's get into writing some actual code! \n",
    "\n",
    "# Literal and Types\n",
    "\n",
    "**Note** - If you ever see a cell marked `Example`, don't be shy to run it! The output of the cell may be useful in helping you understand!\n",
    "\n",
    "We'll first introduce the concept of `literals`.     \n",
    "These are basically just standalone values that the machine will understand! I encourage you to explore a bit by running the following cells!  \n",
    "      \n",
    "These can be integers, called an `int`:"
   ]
  },
  {
   "cell_type": "code",
   "execution_count": null,
   "metadata": {},
   "outputs": [],
   "source": [
    "# Example\n",
    "\n",
    "12345\n",
    "type(12345)"
   ]
  },
  {
   "cell_type": "markdown",
   "metadata": {},
   "source": [
    "They can be decimal numbers called a `float`:"
   ]
  },
  {
   "cell_type": "code",
   "execution_count": null,
   "metadata": {},
   "outputs": [],
   "source": [
    "# Example\n",
    "\n",
    "123.45\n",
    "type(123.45)"
   ]
  },
  {
   "cell_type": "markdown",
   "metadata": {},
   "source": [
    "They can be a `True` or `False` value called a `bool` (short for boolean):\n",
    "\n",
    "**Note** - The capitalization is important. `true` and `false` are not boolean literals--only `True` and `False`!"
   ]
  },
  {
   "cell_type": "code",
   "execution_count": null,
   "metadata": {},
   "outputs": [],
   "source": [
    "# Example\n",
    "\n",
    "True\n",
    "type(True)"
   ]
  },
  {
   "cell_type": "markdown",
   "metadata": {},
   "source": [
    "They can even be words called a `str` (short for string - as in a string of characters), denoted using quotes: `'like this'` or `\"maybe like this\"`. Single quotes vs. double quotes is mostly a matter of preference. Just choose whichever one you prefer and stick with it!"
   ]
  },
  {
   "cell_type": "code",
   "execution_count": null,
   "metadata": {},
   "outputs": [],
   "source": [
    "# Example\n",
    "\n",
    "\"This is a string\"\n",
    "type(\"This is a string\")"
   ]
  },
  {
   "cell_type": "markdown",
   "metadata": {},
   "source": [
    "Notice that all of these `literals` have a `type`, which just specifies what it is - whether it's an integer with type `int`, decimal with type `float`, or a string with type `str`, they change the way how these fundamental ideas behave!\n",
    "          \n",
    "Further, a literal by itself (ex. `42`) is a valid Python program, and are arguably the simplest nontrivial Python program you can make! If you can write a literal, you're technically already programming in Python!"
   ]
  },
  {
   "cell_type": "markdown",
   "metadata": {},
   "source": [
    "### Exercise 1 - Type Checking"
   ]
  },
  {
   "cell_type": "markdown",
   "metadata": {},
   "source": [
    "Below are some literal values.\n",
    " 1. Edit the Markdown (text) cell below the exercise. Double click or hover over it and press `Enter` to edit, `Ctrl + Alt + Enter` or click the check mark in the top right of the cell to save.\n",
    " 2. Fill out the `type` of each literal!\n",
    " 3. Once you're done, feel free to run the exercise code and check your work!"
   ]
  },
  {
   "cell_type": "code",
   "execution_count": null,
   "metadata": {},
   "outputs": [],
   "source": [
    "# 1\n",
    "print(type( 1 ))\n",
    "\n",
    "# 2\n",
    "print(type( 9999 ))\n",
    "\n",
    "# 3\n",
    "print(type( \"Hello World!\" ))\n",
    "\n",
    "# 4\n",
    "print(type( False ))\n",
    "\n",
    "# 5\n",
    "print(type( 1.5 ))\n",
    "\n",
    "# 6\n",
    "print(type( \"True\" ))\n",
    "\n",
    "# 7\n",
    "print(type( 000000000 ))\n",
    "\n",
    "# 8\n",
    "print(type( \"5\" ))\n",
    "\n",
    "# 9\n",
    "print(type( 0.0 ))\n",
    "\n",
    "# 10\n",
    "print(type( \"\" ))"
   ]
  },
  {
   "cell_type": "markdown",
   "metadata": {},
   "source": [
    "1. \n",
    "2. \n",
    "3. \n",
    "4. \n",
    "5. \n",
    "6. \n",
    "7. \n",
    "8. \n",
    "9. \n",
    "10. "
   ]
  },
  {
   "cell_type": "markdown",
   "metadata": {},
   "source": [
    "# Variables\n",
    "\n",
    "`Variables` are a fundamental part of most programming languages and let you ***substitute some expression (something that evaluates into a literal, including literals themsleves) for a defined alias***. You can think of it as *assigning* an expression a name.    \n",
    "\n",
    "To declare a variable, let's say we name it *x*. We just set *x* equal to a value in statement like so:    \n",
    "     \n",
    "`x = 2`      \n",
    "`x = True`     \n",
    "`x = \"Bob\"`   \n",
    "\n",
    "These on the whole are referred to as `assignment statements`. A ***statement*** differs from an ***expression*** in that it doesn't resolve or evaluate into a literal value. In this example, there is no value you can use from `x = 2`, but `2 + 2` will resolve to `4`.\n",
    "\n",
    "Unlike many programming langauges, variable types are `inferred` or `implicit` in Python - what this means is that you don't have to say that your variable is an `int` or a `str` - your computer will guess what type your variable is.\n",
    "Variables are also `dynamically typed`. This means that if we want to declare *x* as an `int` and later change our minds and change it to a `bool`, we won't get an error - *x* will just change to a `bool`.\n",
    "\n",
    "To visualize these two points, Python automatically knows that *x* is an `int` and *y* is a `str` in the above example. Further, let's say you later decide that *x* = True. In this case, *x* will naturally become a `bool`.\n",
    "\n"
   ]
  },
  {
   "cell_type": "code",
   "execution_count": null,
   "metadata": {},
   "outputs": [],
   "source": [
    "# Example\n",
    "\n",
    "x = 2\n",
    "y = \"Bob\"\n",
    "\n",
    "print(x, type(x))\n",
    "print(y, type(y))"
   ]
  },
  {
   "cell_type": "markdown",
   "metadata": {},
   "source": [
    "Note that code will be executed sequentially from top to bottom. If we \"overwrite\" one of our variables later down the line, the \"latest version\" of the variable is the one that actually matters."
   ]
  },
  {
   "cell_type": "code",
   "execution_count": null,
   "metadata": {},
   "outputs": [],
   "source": [
    "# Example\n",
    "\n",
    "x = 3\n",
    "\n",
    "print(f\"x is currently {x}\")\n",
    "\n",
    "y = 10\n",
    "\n",
    "x = 5\n",
    "\n",
    "print(f\"x is now {x}\")\n",
    "\n",
    "# 13 or 15?\n",
    "print(x + y)"
   ]
  },
  {
   "cell_type": "markdown",
   "metadata": {},
   "source": [
    "<details>\n",
    "    <summary> Explanation </summary>\n",
    "The reason why it prints 15 is that while we first declare x as 3, we later overwrite it so it becomes 5. Therefore, we get 5 + 10 = 15.\n",
    "</details>"
   ]
  },
  {
   "cell_type": "markdown",
   "metadata": {},
   "source": [
    "You can even use other variables when declaring variables!"
   ]
  },
  {
   "cell_type": "code",
   "execution_count": 96,
   "metadata": {},
   "outputs": [
    {
     "name": "stdout",
     "output_type": "stream",
     "text": [
      "7\n"
     ]
    }
   ],
   "source": [
    "# Example\n",
    "\n",
    "x = 5\n",
    "y = 2\n",
    "z = x + y\n",
    "\n",
    "print(z)"
   ]
  },
  {
   "cell_type": "markdown",
   "metadata": {},
   "source": [
    "When naming variables, it's good \"pythonic\" [style](https://peps.python.org/pep-0008/#method-names-and-instance-variables) to have it all lowercase. If there are spaces for separation, use underscores (`_`) in their place (ex. `my_var_name = 2`).        \n",
    "Other languages may use camelCaseLikeThis. This is fine as well but generally frowned upon for Python. You may still use it if you like - just remain consistent within your own code!     \n",
    "For constants, use all capitals like `PI = 3.14`.\n",
    "       \n",
    "These are general guidelines; however, variable names more strictly regulated by the language in that they:     \n",
    " 1. Must be one continuous word without spaces\n",
    " 2. Can only use alphanumeric characters (a-z, A-Z, 0-9) along with underscores (_)\n",
    " 3. Cannot start with a number\n",
    "\n",
    "Here are some examples of valid and invalid variable names:"
   ]
  },
  {
   "cell_type": "code",
   "execution_count": null,
   "metadata": {},
   "outputs": [],
   "source": [
    "# Valid\n",
    "\n",
    "my_first_variable = 1\n",
    "\n",
    "mySecondVariable = 2\n",
    "\n",
    "MY_THIRD_VARIABLE = 3\n",
    "\n",
    "_myfourthvariable_ = 4\n",
    "\n",
    "my_5th_variable = 5"
   ]
  },
  {
   "cell_type": "code",
   "execution_count": null,
   "metadata": {},
   "outputs": [],
   "source": [
    "# Invalid\n",
    "\n",
    "my-sixth-variable = 6\n",
    "\n",
    "7th_variable_of_mine = 7\n",
    "\n",
    "my 8th variable = 8\n",
    "\n",
    "\"my_ninth_variable\" = 9\n",
    "\n",
    "my_tenth_v@riable = 10"
   ]
  },
  {
   "cell_type": "markdown",
   "metadata": {},
   "source": [
    "Modern IDEs (integrated development environments) generally have syntax highlighting. Coding languages are in fact, languages, and if you break grammatical rules, they have ways to catch that. Notice how many of the invalid variable names are blaring with errors or not recognized as a valid variable!\n",
    "\n",
    "Additionally, you may notice that the variables beginning with underscores look a bit different. Variables whose names begin with underscores have a generally-accepted - albeit not strictly enforced - convention. Worry not! We'll get to this later!        \n",
    "Generally, it advised to use descriptive variable names. Don't go with placeholders like `x` or `var` if you're using a variable for something like an age, for instance. Use something like `age` or `num_years`.     \n",
    "      \n",
    "**Note that variable names are cAse-SEnsITivE! The variable `my_var` is completely different from `my_VaR`!**"
   ]
  },
  {
   "cell_type": "markdown",
   "metadata": {},
   "source": [
    "## Basic Operators\n",
    "\n",
    "As introduced in the previous example, we can have Python perform operations on variables and literals for us! These are called `binary operators` will take two `operands`, either variables or literals, and then perform an operation like adding or subtracting, and then output a result like the sum or difference. As these all evaluate to a literal value, these are also considered expressions. Here are a few of the most common operators:\n",
    "  * `+` : For `ints` and `floats`, this will add the values. It'll output an `int` if both inputs are ints and otherwise a `float`."
   ]
  },
  {
   "cell_type": "code",
   "execution_count": null,
   "metadata": {},
   "outputs": [],
   "source": [
    "# Example\n",
    "\n",
    "print(1 + 1)\n",
    "print(1.0 + 1)\n",
    "print(1 + 1.0)\n",
    "print(1.0 + 1.0)"
   ]
  },
  {
   "cell_type": "markdown",
   "metadata": {},
   "source": [
    "  * `+` : For two `str` inputs, it will concatenate the first `str` with the second one and output this as a `str`. This is essentially \"gluing\" the two strings together."
   ]
  },
  {
   "cell_type": "code",
   "execution_count": null,
   "metadata": {},
   "outputs": [],
   "source": [
    "# Example\n",
    "\n",
    "print(\"Ban\" + \"ana\")\n",
    "print(\"Three\" + \" \" + \"Musketeers\")"
   ]
  },
  {
   "cell_type": "markdown",
   "metadata": {},
   "source": [
    "* `-` : Basically the exact same as addition for `ints` and `floats`, but instead for subtraction. There isn't a `str` equivalent here."
   ]
  },
  {
   "cell_type": "code",
   "execution_count": null,
   "metadata": {},
   "outputs": [],
   "source": [
    "# Example\n",
    "\n",
    "# For x - y, outputs x minus y.\n",
    "print(2 - 1)\n",
    "print(2.0 - 1)\n",
    "print(2 - 1.0)\n",
    "print(2.0 - 1.0)"
   ]
  },
  {
   "cell_type": "markdown",
   "metadata": {},
   "source": [
    " * `*`, `/`, `//`: These are the multiplication, division, and integer division operators respectively. Multiplication will output an `int` if both of its inputs are `ints`; otherwise, it'll return a `float` if at least one of its inputs are floats. Division will always return a `float`. Integer division will perform division on the two operands and always return a floored (rounded down) `int`."
   ]
  },
  {
   "cell_type": "code",
   "execution_count": null,
   "metadata": {},
   "outputs": [],
   "source": [
    "# Example\n",
    "\n",
    "print(1 * 2)\n",
    "print(1.0 * 2)\n",
    "print(1 * 2.0)\n",
    "print(1.0 * 2.0)\n",
    "\n",
    "print() # Prints a blank line to separate the two.\n",
    "\n",
    "# For x / y, outputs x divided by y.\n",
    "print(2 / 1)\n",
    "print(2.0 / 1)\n",
    "print(2 / 1.0)\n",
    "print(2.0 / 1.0)\n",
    "print(1 / 2)\n",
    "\n",
    "print()\n",
    "\n",
    "print(2 // 1)\n",
    "print(3 // 2)\n",
    "print(-3 // 2)\n",
    "print(1 // 2)"
   ]
  },
  {
   "cell_type": "markdown",
   "metadata": {},
   "source": [
    "* `*` : If one argument is a `str` and the other is an `int`, this will do string multiplication, which is basically just when your str is repeated that many of times. For example: ``hello * 3`` = `hellohellohello`."
   ]
  },
  {
   "cell_type": "code",
   "execution_count": null,
   "metadata": {},
   "outputs": [],
   "source": [
    "# Example\n",
    "\n",
    "print('a' * 5)\n",
    "print(5 * 'b')\n",
    "print('' * 2)\n",
    "print('abc' * 1)\n",
    "print('abc' * 0)"
   ]
  },
  {
   "cell_type": "markdown",
   "metadata": {},
   "source": [
    " * `**` : The exponentiation operator. If the inputs are `ints` AND the output can fit neatly as an `int`, that's what it'll return. Otherwise, it'll return a `float`."
   ]
  },
  {
   "cell_type": "code",
   "execution_count": null,
   "metadata": {},
   "outputs": [],
   "source": [
    "# Example\n",
    "\n",
    "# For x ** y, outputs x to the power of y.\n",
    "print(2 ** 2)\n",
    "print(2.0 ** 2)\n",
    "print(2 ** 2.0)\n",
    "print(2.0 ** 2.0)\n",
    "print(2 ** -2)"
   ]
  },
  {
   "cell_type": "markdown",
   "metadata": {},
   "source": [
    " * `%` : The modulo operator. This, when given two numbers, *x % y*, will give you the remainder of *x / y*. Same rules apply - if either *x* or *y* are `floats`, the output will be a `float`. Otherwise, it means that *x* and *y* are both `ints`, so the output will be an `int`.       "
   ]
  },
  {
   "cell_type": "code",
   "execution_count": null,
   "metadata": {},
   "outputs": [],
   "source": [
    "# Example\n",
    "\n",
    "# For x % y, outputs the remainder of x / y\n",
    "print(10 % 4)\n",
    "print(9 % 2.5)\n",
    "print(8.0 % 3)\n",
    "print(5 % -2)"
   ]
  },
  {
   "cell_type": "markdown",
   "metadata": {},
   "source": [
    "For all of the above operators, let's say we want to perform an operation on a variable, and then use the result as the new value for a variable. For example, let's say we have an `int` x. We want to add 1 to `x`. One way we could go about doing this is saying:"
   ]
  },
  {
   "cell_type": "code",
   "execution_count": null,
   "metadata": {},
   "outputs": [],
   "source": [
    "# Example\n",
    "\n",
    "x = 0\n",
    "x = x + 1\n",
    "print(f\"x = {x}\")"
   ]
  },
  {
   "cell_type": "markdown",
   "metadata": {},
   "source": [
    "However, there's actually a more efficient sytnax for this: we can write:\n",
    "`x += 1`. This is basically saying to add 1 to x, and then store it in the value of x. We can do the same for `-=`, `*=`, `/=`, `%=`, and `**=` as well as long as we're working with variables!"
   ]
  },
  {
   "cell_type": "code",
   "execution_count": null,
   "metadata": {},
   "outputs": [],
   "source": [
    "# Example\n",
    "\n",
    "y = 0\n",
    "y += 1\n",
    "print(f\"y = {y}\")"
   ]
  },
  {
   "cell_type": "markdown",
   "metadata": {},
   "source": [
    " * `==` and `!=` : These are the equals and not equals operators respectively and test whether two variables/literals are equal or not. If the two inputs are equal, then `==` outputs `True` and `!=` outputs `False`. And the opposite if they aren't equal. Note that these will always output a `bool`. If we compare an `int` and a `float`, the int will be converted to a float and compared. For equality purposes, `1` and `1.0` are equal to `True` and `0` and `0.0` are equal to `False`.       \n",
    "\n",
    "**Note: Do not confuse `==` with `=`. One you use to test for equality and the other one you use to assign a value to variables!**"
   ]
  },
  {
   "cell_type": "code",
   "execution_count": null,
   "metadata": {},
   "outputs": [],
   "source": [
    "# Example\n",
    "\n",
    "x = 5\n",
    "y = \"Hello\"\n",
    "\n",
    "print(5 == 4)\n",
    "print(5 != 5)\n",
    "print(5 != 4)\n",
    "print(x == 5)\n",
    "print(5 == 5.0)\n",
    "\n",
    "print(y == \"Hello\")\n",
    "print(\"Hello\" == \"Hello\")\n",
    "print(\"Hello\" != y)"
   ]
  },
  {
   "cell_type": "markdown",
   "metadata": {},
   "source": [
    "**Note: Do not confuse `==` with `=`. One you use to test for equality and the other one you use to assign a value to variables!**"
   ]
  },
  {
   "cell_type": "markdown",
   "metadata": {},
   "source": [
    " * `>`, `>=`, `<` and `<=` : In order from left to right, these are \"greater than\", \"greater than or equal to\", \"less than\", \"less than or equal to\". Similar to the equality operators, they will return a `bool` depending on if the operand on the right is greater/less/equal to the operand on the right. These work how you would expect for `int` and `float` types, but for `str`s, they actually compare *lexocagraphical order* as in `\"a\" < \"b\"` resolves to `True` because `\"a\"` comes before `\"b\"` and likewise, `\"banana\" > \"bandana\"` would resolve to `False`. While this *generally* means alphabetical/dictionary order, it's not always the case! For example, all CAPITAL are before all lowercase letters. If you want specifics, this is due to Python comparing each character's [Unicode](https://en.wikipedia.org/wiki/Unicode) ordering. For this reason, if you're ever comparing strings like this, you want to use a method like [`str.lower()`](https://docs.python.org/3/library/stdtypes.html#str.lower) in order to alleviate this."
   ]
  },
  {
   "cell_type": "code",
   "execution_count": null,
   "metadata": {},
   "outputs": [],
   "source": [
    "# Example\n",
    "\n",
    "print(1 < 2)\n",
    "print(2 < 2)\n",
    "print(1 <= 2)\n",
    "print(2 <= 2)\n",
    "print()\n",
    "\n",
    "print(4 > 3)\n",
    "print(3 > 4)\n",
    "print()\n",
    "\n",
    "print(\"a\" < \"b\")\n",
    "print(\"ZZZ\" < \"aaa\")\n",
    "print(\"c\" < \"bb\")\n",
    "print(\"b\" < \"cc\")\n",
    "print(\"\" < \"a\")\n",
    "print(\"@\" < \"A\")\n",
    "print(\"@\" > \"1\")"
   ]
  },
  {
   "cell_type": "markdown",
   "metadata": {},
   "source": [
    "### Operator Errors\n",
    "\n",
    "You may find yourself running into a few errors with these operators! Here are some examples:     \n",
    "\n",
    "#### Type Errors\n",
    "\n",
    "The types of operands you're feeding into the operator aren't valid! For example, suppose you're trying to concatenate a `str` and a `float`:"
   ]
  },
  {
   "cell_type": "code",
   "execution_count": null,
   "metadata": {},
   "outputs": [],
   "source": [
    "# Example\n",
    "\n",
    "print(\"error\" + 4.5)"
   ]
  },
  {
   "cell_type": "markdown",
   "metadata": {},
   "source": [
    "Or trying to multiply two strings together:"
   ]
  },
  {
   "cell_type": "code",
   "execution_count": null,
   "metadata": {},
   "outputs": [],
   "source": [
    "# Example\n",
    "\n",
    "print(\"this will\" * \"error\")"
   ]
  },
  {
   "cell_type": "markdown",
   "metadata": {},
   "source": [
    "In most of these cases, either re-evaluate the variables or expressions you're using as operands or change the types via type casting (which will be covered later this lesson).    \n",
    "\n",
    "#### Divide By Zero Errors\n",
    "\n",
    "For division-esque operations (`/`, `//`, `%`), the second operand cannot be `0` or an equivalent value. This would necessitate dividing by zero!"
   ]
  },
  {
   "cell_type": "code",
   "execution_count": null,
   "metadata": {},
   "outputs": [],
   "source": [
    "# Example\n",
    "\n",
    "print(5 % 0)"
   ]
  },
  {
   "cell_type": "code",
   "execution_count": null,
   "metadata": {},
   "outputs": [],
   "source": [
    "# Example\n",
    "\n",
    "print(2 / 0)"
   ]
  },
  {
   "cell_type": "markdown",
   "metadata": {},
   "source": [
    "One last note! Python will generally follow your traditional order of arithmetic operations with relational operators (`==`, `!=`, `>`, `>=`, `<`, `<=`) coming in last after addition and subtraction! This includes parentheses, so if it sees those, it'll calculate those first! Visually, it looks like this:\n",
    "\n",
    "1. Parentheses `()`\n",
    "2. Expontents `**`\n",
    "3. Multiplication/Division `*, /, //, %`\n",
    "4. Addition/Subtraction `+, -`\n",
    "5. Relations `==, !=, >, >=, <, <=`"
   ]
  },
  {
   "cell_type": "markdown",
   "metadata": {},
   "source": [
    "### Exercise 2 - In and Out\n",
    "\n",
    "Below are some expressions! What's the output of each of them?\n",
    " 1. Create a new Markdown cell below the code.\n",
    " 2. Fill out the cell with what the output of each number will be. If you want to, you can even add in the type of each output!\n",
    " 3. Check your work by running the code!"
   ]
  },
  {
   "cell_type": "code",
   "execution_count": null,
   "metadata": {},
   "outputs": [],
   "source": [
    "# 1\n",
    "\n",
    "x = 6\n",
    "y = 10\n",
    "z = 8\n",
    "\n",
    "a = x + y\n",
    "print(a)\n",
    "\n",
    "# 2\n",
    "\n",
    "b = a / z\n",
    "print(b)\n",
    "\n",
    "# 3\n",
    "\n",
    "y = 2\n",
    "\n",
    "print((x + y) ** b)\n",
    "\n",
    "# 4\n",
    "\n",
    "print(\"Hello \" + \"World!\")\n",
    "\n",
    "# 5\n",
    "\n",
    "print((11 % y) == 0)\n",
    "\n",
    "### MAKE A NEW MARKDOWN CELL BELOW THIS POINT ###"
   ]
  },
  {
   "cell_type": "markdown",
   "metadata": {},
   "source": [
    "## Type Casting\n",
    "\n",
    "There may be some instances where you want to change a variable from one type to another, as long as they're compatable. This is called `type casting`.     \n",
    "This can be useful if we want to perform operations on a `str` that is a number (i.e. \"500\").     \n",
    "\n",
    "To cast, simply surround what you want to cast with the type name like so: `int(\"500\")`.\n",
    " * `int()` : converts the input into an `int`\n",
    "    * If the input is a `float`, changes takes only the integer part (chops off the decimal part). This is called `truncation`.\n",
    "    * If the input is a `bool`, outputs 0 if it's `False` and 1 if it's `True`.\n",
    "    * If the input is an `str`, changes the word into its number form.\n",
    " * `float()` : converts the input into a `float`\n",
    "   *  If the input is an `int`, adds a `.0` decimal portion to it.\n",
    "   *  If the input is a `bool`, outputs 0.0 if it's `False` and 1.0 if it's `True`.\n",
    "   *  If the input is a `str`, changes the word into its number form.\n",
    "* `bool()` : converts the input into a `bool`\n",
    "   *  If the input is an `int` or `float`, outputs `False` if input equals 0 or 0.0. Otherwise, `True`.\n",
    "   *  If the input is a `str`, outputs `False` if the input equals `\"\"` (the empty string). Otherwise, `True`.\n",
    "* `str()` : converts the input into a `str`\n",
    "  * For any of the types, basically just turns the input into a word.\n",
    "\n",
    "I wouldn't worry about memorizing this. You'll rarely use many of these, but they're good to keep in mind!"
   ]
  },
  {
   "cell_type": "code",
   "execution_count": null,
   "metadata": {},
   "outputs": [],
   "source": [
    "# Example\n",
    "\n",
    "w = int(True)\n",
    "x = float(5)\n",
    "y = bool(\"False\")\n",
    "z = str(12.25)\n",
    "\n",
    "# These are called formatted string literals. We'll get into them later.\n",
    "# Basically all that you need to know is that they'll print out\n",
    "# the value of each variable and the type to its right.\n",
    "\n",
    "print(f'{w} \\tType: {type(w)}')\n",
    "print(f'{x} \\tType: {type(x)}')\n",
    "print(f'{y} \\tType: {type(y)}')\n",
    "print(f'{z} \\tType: {type(z)}')"
   ]
  },
  {
   "cell_type": "markdown",
   "metadata": {},
   "source": [
    "## Comments and some Useful Functions\n",
    "\n",
    "You probably noticed some weird `#` lines in some of the examples. These are what are known as comments and aren't run as actual code.        \n",
    "Basically, if you type a `#` in the line, any text after it will just be ignored and not be executed. This can be particular useful in a few instances:\n",
    " * You want to explain your code, either to a colleague or peer.\n",
    " * You want to comment out a section of code to see how your program runs without it.\n",
    "\n",
    "If you want to comment multiple lines, you can highlight those lines and press `Ctrl + /`. To uncomment, do the exact same but on commented lines.     \n",
    "As you work on larger projects, it's heavily advised that you comment explanations of your code not only for documentation, but also for code maintenance as you may revisit older projects much later in the future and want to be able to quickly parse through your code."
   ]
  },
  {
   "cell_type": "code",
   "execution_count": null,
   "metadata": {},
   "outputs": [],
   "source": [
    "# This is a comment!"
   ]
  },
  {
   "cell_type": "markdown",
   "metadata": {},
   "source": [
    "The last thing I want to go over are the built-in `print()`, `round()`, and `input()`functions.        \n",
    "\n",
    "Starting with `print()`, you've probably seen them sprinkled all throughout this lessons' examples. Essentially, it'll take an argument, convert it into a string, and display it to the output line and then jump to the next line afterwards. There are a few notes here:\n",
    " * There are dedicated phrases called escape characters that have special properties. For example, `\\n` will skip to the next line and `\\t` will create a tab. Due to escape characters starting with a `\\` and strings defined by `'` marks, to type either of these, use `\\\\` and `\\'` respectively.\n",
    " * You can print expressions as well! To print multiple expressions, you'll have to use a formatted string, denoted by `f'text {var1} text {var2} text {var3}...'` (single and double quotes are also interchangeable here).\n",
    " * Note that even without a print statement, Python will automatically output the last value of each cell."
   ]
  },
  {
   "cell_type": "code",
   "execution_count": null,
   "metadata": {},
   "outputs": [],
   "source": [
    "# Example\n",
    "\n",
    "print(50 * 3 - 150)\n",
    "\n",
    "print(\"This is one line.\\nAnd this is another.\")\n",
    "\n",
    "three = int('3')\n",
    "print(f\"{10 - 9} and {9 % 7} and {three}\")"
   ]
  },
  {
   "cell_type": "markdown",
   "metadata": {},
   "source": [
    "Next, the `round()` function will take in a number-like value and output the nearest `int` value, much like traditional rounding!"
   ]
  },
  {
   "cell_type": "code",
   "execution_count": null,
   "metadata": {},
   "outputs": [],
   "source": [
    "# Example\n",
    "\n",
    "print(round(1.5))\n",
    "print(round(-1.233))\n",
    "print(round(5.0))\n",
    "print(round(10))\n",
    "print(round(False))"
   ]
  },
  {
   "cell_type": "markdown",
   "metadata": {},
   "source": [
    "And last but not least, the `input()` function will take a user input via terminal or prompt and return its value as an `str`. Note that even if the user inputs a boolean value like `True` or a number like the `int` `500`, they will be returned via the function in their `str` literal form: so `\"True\"` and `\"500\"` respectively. If you are looking to get non-string values, make sure to cast them to the desired type."
   ]
  },
  {
   "cell_type": "code",
   "execution_count": null,
   "metadata": {},
   "outputs": [],
   "source": [
    "# Example\n",
    "\n",
    "age = input(\"How old are you?\")\n",
    "print(f\"You're {age} years old!\")\n",
    "\n",
    "print(type(age))"
   ]
  },
  {
   "cell_type": "markdown",
   "metadata": {},
   "source": [
    "### Exercise 3 - 24 Game\n",
    "\n",
    "Your goal in this exercise is to edit each block of code so the output equals 24. I've provided an example below.\n",
    "\n",
    "1. Look at the variables for each block.\n",
    "2. Try and find a combination that leads to 24 that uses all of the variables only once.\n",
    "3. Edit the expression at the bottom.\n",
    "4. Run the cell to check!"
   ]
  },
  {
   "cell_type": "code",
   "execution_count": null,
   "metadata": {},
   "outputs": [],
   "source": [
    "# Example\n",
    "\n",
    "a = 3\n",
    "b = 5\n",
    "c = 6\n",
    "d = 8\n",
    "\n",
    "# Explanation: 6 - 5 is 1; 1 * 3 is 3; 3 * 8 is 24.\n",
    "(c - b) * a * d"
   ]
  },
  {
   "cell_type": "code",
   "execution_count": null,
   "metadata": {},
   "outputs": [],
   "source": [
    "# 1\n",
    "\n",
    "a = 5\n",
    "b = 5\n",
    "c = 9\n",
    "d = 1\n",
    "\n",
    "# Uncomment the below expression and solve!\n",
    "# a + b + c + d"
   ]
  },
  {
   "cell_type": "code",
   "execution_count": null,
   "metadata": {},
   "outputs": [],
   "source": [
    "# 2\n",
    "\n",
    "a = 4\n",
    "b = 4\n",
    "c = 7\n",
    "d = 8\n",
    "\n",
    "# Uncomment the below expression and solve!\n",
    "# a + b + c + d"
   ]
  },
  {
   "cell_type": "code",
   "execution_count": null,
   "metadata": {},
   "outputs": [],
   "source": [
    "# 3\n",
    "\n",
    "a = 3\n",
    "b = 10\n",
    "c = 13\n",
    "d = 7\n",
    "\n",
    "# Uncomment the below expression and solve!\n",
    "# a + b + c + d"
   ]
  },
  {
   "cell_type": "markdown",
   "metadata": {},
   "source": [
    "## Key Takeaways\n",
    "\n",
    " - Expressions are piecess of code that evaluate to a literal value.\n",
    "   - Literals are typed! The four basic (primitive) types are: `int`, `float`, `bool`, and `str`.\n",
    " - Variables are a way of \"naming\" or aliasing specific expressions and can be used as operands, passed into functions, and defining other variables.\n",
    "   - Variable names should be descriptive and must not break any of the naming restrictions!\n",
    " - Operands are ways of manipulating variables and can form expressions with operands.\n",
    " - You can use type casting to convert from one type to another.\n",
    " - Comments are a way of adding explanations or context for readers or temporarily disabling lines of code.\n",
    " - The `print()` function will covert its argument to a string and output it to an output stream (usually your screen!)\n",
    " - The `round()` function takes in a number and round sit to the nearest integer.\n",
    " - The `input()` function takes in a prompt to display and returns a user's response in the form of a `str`.\n"
   ]
  }
 ],
 "metadata": {
  "kernelspec": {
   "display_name": "Python 3",
   "language": "python",
   "name": "python3"
  },
  "language_info": {
   "codemirror_mode": {
    "name": "ipython",
    "version": 3
   },
   "file_extension": ".py",
   "mimetype": "text/x-python",
   "name": "python",
   "nbconvert_exporter": "python",
   "pygments_lexer": "ipython3",
   "version": "3.10.2"
  },
  "orig_nbformat": 4
 },
 "nbformat": 4,
 "nbformat_minor": 2
}
